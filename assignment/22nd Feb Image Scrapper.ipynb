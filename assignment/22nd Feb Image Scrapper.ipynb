{
 "cells": [
  {
   "cell_type": "markdown",
   "id": "46a03edd",
   "metadata": {},
   "source": [
    "## Go to this given URL and solve the following questions\n",
    "## URL: https://www.youtube.com/@PW-Foundation/videos\n"
   ]
  },
  {
   "cell_type": "markdown",
   "id": "f8e59ba4",
   "metadata": {},
   "source": [
    "Q1. Write a python program to extract the video URL of the first five videos.\n"
   ]
  },
  {
   "cell_type": "code",
   "execution_count": 9,
   "id": "5094712a",
   "metadata": {},
   "outputs": [
    {
     "name": "stderr",
     "output_type": "stream",
     "text": [
      "C:\\Users\\ASUS\\AppData\\Local\\Temp\\ipykernel_9900\\2974978536.py:6: DeprecationWarning: executable_path has been deprecated, please pass in a Service object\n",
      "  driver = webdriver.Chrome(executable_path=ChromeDriverManager().install())\n"
     ]
    },
    {
     "name": "stdout",
     "output_type": "stream",
     "text": [
      "https://www.youtube.com/watch?v=PI1obes98Zc\n",
      "https://www.youtube.com/watch?v=16fUsD0M1-I\n",
      "https://www.youtube.com/watch?v=S0RySN5arvk\n",
      "https://www.youtube.com/watch?v=HzBhwxMrt8A\n",
      "https://www.youtube.com/watch?v=60_B3haKADw\n"
     ]
    }
   ],
   "source": [
    "from bs4 import BeautifulSoup\n",
    "from selenium import webdriver\n",
    "# from selenium.webdriver.chrome.service import Service\n",
    "from webdriver_manager.chrome import ChromeDriverManager\n",
    "\n",
    "driver = webdriver.Chrome(executable_path=ChromeDriverManager().install())\n",
    "\n",
    "\n",
    "driver.get(\"https://www.youtube.com/@PW-Foundation/videos\")\n",
    "\n",
    "\n",
    "content = driver.page_source\n",
    "\n",
    "soup = BeautifulSoup(content,\"html.parser\")\n",
    "\n",
    "video_url = soup.find_all('a',{\"class\":\"yt-simple-endpoint inline-block style-scope ytd-thumbnail\"})\n",
    "\n",
    "\n",
    "for i in video_url[1:6]:\n",
    "    print(\"https://www.youtube.com\"+i['href'])\n"
   ]
  },
  {
   "cell_type": "markdown",
   "id": "3489a85a",
   "metadata": {},
   "source": [
    "Q2. Write a python program to extract the URL of the video thumbnails of the first five videos.\n"
   ]
  },
  {
   "cell_type": "code",
   "execution_count": 10,
   "id": "ad7e598c",
   "metadata": {},
   "outputs": [
    {
     "name": "stdout",
     "output_type": "stream",
     "text": [
      "https://i.ytimg.com/vi/PI1obes98Zc/hqdefault.jpg?sqp=-oaymwEcCNACELwBSFXyq4qpAw4IARUAAIhCGAFwAcABBg==&rs=AOn4CLDyWGBtPVQCXcUM1DiCpOeszoKAsQ\n",
      "https://i.ytimg.com/vi/16fUsD0M1-I/hqdefault.jpg?sqp=-oaymwEcCNACELwBSFXyq4qpAw4IARUAAIhCGAFwAcABBg==&rs=AOn4CLByRUwFQYHPXlsq0XinNUla0MZtNw\n"
     ]
    }
   ],
   "source": [
    "\n",
    "\n",
    "thumbnail_url = soup.find_all('img',{'class':\"yt-core-image--fill-parent-height yt-core-image--fill-parent-width yt-core-image yt-core-image--content-mode-scale-aspect-fill yt-core-image--loaded\"})\n",
    "\n",
    "for index,img_url in enumerate(thumbnail_url):\n",
    "    print(thumbnail_url[index]['src'])\n"
   ]
  },
  {
   "cell_type": "markdown",
   "id": "d552e634",
   "metadata": {},
   "source": [
    "Q3. Write a python program to extract the title of the first five videos.\n"
   ]
  },
  {
   "cell_type": "code",
   "execution_count": 11,
   "id": "62da8ab7",
   "metadata": {},
   "outputs": [
    {
     "name": "stdout",
     "output_type": "stream",
     "text": [
      "How to score 95%+ in class 10th? Complete year Powerful Strategy!!\n",
      "Last 4 Days Left For SST Exam || How To Manage to Score 80/80 in Boards || Class-10th\n",
      "Benefits of Choosing Commerce After 10th | Commerce क्यों लेना चाहिए? | CBSE | ICSE | State Boards\n",
      "Complete 𝗖𝗔𝗥𝗕𝗢𝗡 𝗔𝗡𝗗 𝗜𝗧𝗦 𝗖𝗢𝗠𝗣𝗢𝗨𝗡𝗗𝗦 in 90 Minutes | Class 10th Board Exam\n",
      "Complete 𝗠𝗘𝗧𝗔𝗟𝗦 & 𝗡𝗢𝗡 𝗠𝗘𝗧𝗔𝗟𝗦  in 120 Minutes | Class 10th Board Exam\n"
     ]
    }
   ],
   "source": [
    "\n",
    "title_video = soup.find_all('a',{'class':'yt-simple-endpoint focus-on-expand style-scope ytd-rich-grid-media'})\n",
    "\n",
    "titles_ls = []\n",
    "for index, title in enumerate(title_video):\n",
    "    if len(titles_ls) >= 5:\n",
    "        pass\n",
    "    else:\n",
    "        titles_ls.append(title_video[index].text)\n",
    "for title in titles_ls:\n",
    "    print(title)\n"
   ]
  },
  {
   "cell_type": "markdown",
   "id": "66964af8",
   "metadata": {},
   "source": [
    "Q4. Write a python program to extract the number of views of the first five videos.\n"
   ]
  },
  {
   "cell_type": "code",
   "execution_count": 12,
   "id": "f74c8b52",
   "metadata": {},
   "outputs": [
    {
     "name": "stdout",
     "output_type": "stream",
     "text": [
      "188K views\n",
      "68K views\n",
      "28K views\n",
      "42K views\n",
      "23K views\n"
     ]
    }
   ],
   "source": [
    "\n",
    "video_views = soup.find_all('span',{'class':'inline-metadata-item style-scope ytd-video-meta-block'})\n",
    "\n",
    "\n",
    "all_views = []\n",
    "\n",
    "\n",
    "import re\n",
    "for index,views in enumerate(video_views):\n",
    "    if len(all_views) >=5:\n",
    "        pass\n",
    "    else:\n",
    "        if re.search(\"^[0-9].*views$\",video_views[index].text):\n",
    "            all_views.append(views.text)\n",
    "\n",
    "\n",
    "for views in all_views:\n",
    "    print(views)"
   ]
  },
  {
   "cell_type": "markdown",
   "id": "59f84761",
   "metadata": {},
   "source": [
    "Q5. Write a python program to extract the time of posting of video for the first five videos."
   ]
  },
  {
   "cell_type": "code",
   "execution_count": 13,
   "id": "ffe72f88",
   "metadata": {},
   "outputs": [
    {
     "name": "stdout",
     "output_type": "stream",
     "text": [
      "10 days ago\n",
      "10 days ago\n",
      "2 weeks ago\n",
      "2 weeks ago\n",
      "2 weeks ago\n"
     ]
    }
   ],
   "source": [
    "uploaded_time = soup.find_all('span',{'class':'inline-metadata-item style-scope ytd-video-meta-block'})\n",
    "\n",
    "\n",
    "uplodedtimelist = []\n",
    "\n",
    "\n",
    "for index,time in enumerate(uploaded_time):\n",
    "    if len(uplodedtimelist) >= 5:\n",
    "        pass\n",
    "    else:\n",
    "        if re.search(\"[0-9].*ago$\",uploaded_time[index].text):\n",
    "            uplodedtimelist.append(uploaded_time[index].text)\n",
    "\n",
    "\n",
    "for time in uplodedtimelist:\n",
    "    print(time)"
   ]
  }
 ],
 "metadata": {
  "kernelspec": {
   "display_name": "Python 3 (ipykernel)",
   "language": "python",
   "name": "python3"
  },
  "language_info": {
   "codemirror_mode": {
    "name": "ipython",
    "version": 3
   },
   "file_extension": ".py",
   "mimetype": "text/x-python",
   "name": "python",
   "nbconvert_exporter": "python",
   "pygments_lexer": "ipython3",
   "version": "3.9.16"
  }
 },
 "nbformat": 4,
 "nbformat_minor": 5
}
