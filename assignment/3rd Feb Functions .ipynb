{
 "cells": [
  {
   "cell_type": "markdown",
   "id": "6d9b8d1a",
   "metadata": {},
   "source": [
    "Q1. Which keyword is used to create a function? Create a function to return a list of odd numbers in the\n",
    "range of 1 to 25.\n"
   ]
  },
  {
   "cell_type": "code",
   "execution_count": 1,
   "id": "caf57f59",
   "metadata": {},
   "outputs": [
    {
     "data": {
      "text/plain": [
       "[1, 3, 5, 7, 9, 11, 13, 15, 17, 19, 21, 23]"
      ]
     },
     "execution_count": 1,
     "metadata": {},
     "output_type": "execute_result"
    }
   ],
   "source": [
    "\"\"\"\n",
    "def keyword is used to create a function. \n",
    "\"\"\"\n",
    "def odd_no():\n",
    "    n=[]\n",
    "    for i in range(1,25):\n",
    "        if i%2 ==1:\n",
    "            n.append(i)\n",
    "        else:\n",
    "            pass\n",
    "    return n\n",
    "odd_no()"
   ]
  },
  {
   "cell_type": "markdown",
   "id": "369ce511",
   "metadata": {},
   "source": [
    "Q2. Why *args and **kwargs is used in some functions? Create a function each for *args and **kwargs to\n",
    "demonstrate their use.\n"
   ]
  },
  {
   "cell_type": "code",
   "execution_count": 2,
   "id": "446674b6",
   "metadata": {},
   "outputs": [
    {
     "name": "stdout",
     "output_type": "stream",
     "text": [
      "[2, 3, 4, 5, 6, 7, 8, 9]\n",
      "this is args\t  (1, 2, 3, 34, 6, 2, 3, 24, 67, 8) \n",
      "this is Kwargs {'a': 23445, 'b': 23, 'c': 2591, 'd': 2345}\n",
      "this is sum of kwargs  28404\n"
     ]
    }
   ],
   "source": [
    "\"\"\"\n",
    "Args and kwargs are special kind of keyword which used to handle any number of arguments in function call \n",
    "*args(args could be replaced with any word like *n, *low,*anyname ,*anything just one astrick is must)\n",
    "*args can handle any data type except dictionary as to handle dic type object **kwargs are made for\n",
    "things we can pass as an argument in *args : int, string, bool, list, tuple\n",
    "**kwargs works same as *args only difference is they handle Dictionary type arguments any number \n",
    "\n",
    "In simple language *args & **kwargs used to handle multiple arguments we passed in function call \n",
    "which these pass to fn body in form of tuple\n",
    "args kwargs can be used anywhere not just in function to handle arguments like a like\"\"\"\n",
    "l = 1,2,3,4,5,6,7,8,9,10\n",
    "start, *rest,end = l\n",
    "print(rest)\n",
    "\n",
    "\n",
    "#function takes args and kwargs display them differentially and also display sum of kwargs(dictionary values)\n",
    "def test_fun(*args,**kwargs):\n",
    "    print(\"this is args\\t \",args,\"\\nthis is Kwargs\",kwargs)\n",
    "    return sum(kwargs.values())\n",
    "print(\"this is sum of kwargs \",test_fun(1,2,3,34,6,2,3,24,67,8,a=23445,b=23,c=2591,d=2345,))"
   ]
  },
  {
   "cell_type": "markdown",
   "id": "9e3af69c",
   "metadata": {},
   "source": [
    "Q3. What is an iterator in python? Name the method used to initialise the iterator object and the method\n",
    "used for iteration. Use these methods to print the first five elements of the given list [2, 4, 6, 8, 10, 12, 14, 16,\n",
    "18, 20].\n"
   ]
  },
  {
   "cell_type": "code",
   "execution_count": 3,
   "id": "48a41990",
   "metadata": {},
   "outputs": [
    {
     "name": "stdout",
     "output_type": "stream",
     "text": [
      "2\n",
      "4\n",
      "6\n",
      "8\n",
      "10\n"
     ]
    }
   ],
   "source": [
    "\"\"\"\n",
    "any object that has __next__ in it's functionality is iterator\n",
    "Iterator is python object that iterate over iterable object using inner method __next__\n",
    "\n",
    "iter() method used to initialize the iterator and next method use for iterate over it\n",
    "iter() method return iterator object object\n",
    "\"\"\"\n",
    "lis = [2, 4, 6, 8, 10, 12, 14, 16, 18, 20]\n",
    "itr_obj = iter(lis)\n",
    "# print(next(itr_obj))\n",
    "# print(next(itr_obj))  # we can use this too iterate like 5 times print stmt\n",
    "for i in range(0,5):\n",
    "    print(next(itr_obj))"
   ]
  },
  {
   "cell_type": "markdown",
   "id": "b026e44b",
   "metadata": {},
   "source": [
    "Q4. What is a generator function in python? Why yield keyword is used? Give an example of a generator\n",
    "function.\n"
   ]
  },
  {
   "cell_type": "code",
   "execution_count": 4,
   "id": "b1d18123",
   "metadata": {},
   "outputs": [
    {
     "name": "stdout",
     "output_type": "stream",
     "text": [
      "  1  4  9  16  25  36  49  64  81  100  121  144  169  196"
     ]
    }
   ],
   "source": [
    "\"\"\"\n",
    "Generator is similar to iterator only difference is it doesn't return any value it yield \n",
    "it saves memory than iterator like it not gone store whole iteration at once instead it store one \n",
    "then yield(mean gave it ) then yield another \n",
    "Generator remember where we left it resumes where ever we left off\n",
    "\"\"\"\n",
    "#function to gave sqare of a list of numbers from 1 - user input\n",
    "def test_sqr(n):\n",
    "    for num in range(1,n):\n",
    "        yield num**2\n",
    "        \n",
    "for j in test_sqr(15):\n",
    "    print(\" \", j, end=\"\")"
   ]
  },
  {
   "cell_type": "markdown",
   "id": "a681e2fa",
   "metadata": {},
   "source": [
    "Q5. Create a generator function for prime numbers less than 1000. Use the next() method to print the\n",
    "first 20 prime numbers."
   ]
  },
  {
   "cell_type": "code",
   "execution_count": 28,
   "id": "3d335de2",
   "metadata": {},
   "outputs": [
    {
     "name": "stdout",
     "output_type": "stream",
     "text": [
      "1 2 3 5 7 11 13 17 19 23 29 31 37 41 43 47 53 59 61 67 "
     ]
    }
   ],
   "source": [
    "#function with Generator for iterating Prime Numbers 
    "def prime_no(num):\n",
    "    for i in range(1,num):\n",
    "        j=i-1\n",
    "        while j>=0:\n",
    "            if i==1 or j==1:\n",
    "                yield i\n",
    "                break\n",
    "            elif i%j==0:\n",
    "                break\n",
    "            else: \n",
    "                j-=1\n",
    "itr= iter(prime_no(1000))\n",
    "for i in range(20):\n",
    "    print(next(itr),end=\" \")"
   ]
  }
 ],
 "metadata": {
  "kernelspec": {
   "display_name": "Python 3 (ipykernel)",
   "language": "python",
   "name": "python3"
  },
  "language_info": {
   "codemirror_mode": {
    "name": "ipython",
    "version": 3
   },
   "file_extension": ".py",
   "mimetype": "text/x-python",
   "name": "python",
   "nbconvert_exporter": "python",
   "pygments_lexer": "ipython3",
   "version": "3.9.13"
  }
 },
 "nbformat": 4,
 "nbformat_minor": 5
}
