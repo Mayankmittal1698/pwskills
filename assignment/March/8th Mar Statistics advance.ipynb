{
 "cells": [
  {
   "cell_type": "markdown",
   "id": "da44a303",
   "metadata": {},
   "source": [
    "### Q1. What is the Probability density function?"
   ]
  },
  {
   "cell_type": "markdown",
   "id": "6ca8af62",
   "metadata": {},
   "source": [
    "Probability density function (p.d.f.) of a continuous random  variable <i>X</i> with support <i>S</i> is an integrable function <i>f</i>(x) statisgying the following : \n",
    "- <i>f</i>(x) is positive everywhere in the support <i>S</i> that is <i>f</i>(x)>0, for all x in <i>S</i>\n",
    "- The area under the curve <i>f</i>(x) in support of <i>S</i> is 1\n",
    "- if <i>f</i>(x) is p.d.f. of <i>x</i> then probability <i>x</i> belongs to <i>A</i>, where <i>A</i> is some interval, given by integral of <i>f</i>(x) over that interval"
   ]
  },
  {
   "cell_type": "markdown",
   "id": "2325d22f",
   "metadata": {},
   "source": [
    "### Q2. What are the types of Probability distribution?\n"
   ]
  },
  {
   "cell_type": "markdown",
   "id": "725dfb84",
   "metadata": {},
   "source": [
    "- Discrete probability distribution\n",
    "\n",
    "- Continuous probability distribution\n",
    "\n",
    "- Bernoulli distribution\n",
    "- Binomial distribution\n",
    "- Poisson distribution\n",
    "- Normal distribution\n",
    "- Exponential distribution\n",
    "- Uniform distribution"
   ]
  },
  {
   "cell_type": "markdown",
   "id": "3c1f8174",
   "metadata": {},
   "source": [
    "### Q3. Write a Python function to calculate the probability density function of a normal distribution with given mean and standard deviation at a given point.\n"
   ]
  },
  {
   "attachments": {
    "image.png": {
     "image/png": "[encoded data removed]"
    }
   },
   "cell_type": "markdown",
   "id": "ecc3cc30",
   "metadata": {},
   "source": [
    "### Formula to find Probability density function for Normal distribution\n",
    "![image.png](attachment:image.png)"
   ]
  },
  {
   "cell_type": "code",
   "execution_count": 14,
   "id": "0575ec01",
   "metadata": {},
   "outputs": [
    {
     "name": "stdout",
     "output_type": "stream",
     "text": [
      "0.3519022181978802\n"
     ]
    }
   ],
   "source": [
    "from math import sqrt, pi, exp\n",
    "\n",
    "def normal_pdf(x,mean,std):\n",
    "    x = (1/(std * sqrt(2*pi)))*exp(-0.5*((x-mean)/std)**2)\n",
    "    return x\n",
    "    \n",
    "print(normal_pdf(6.5, 5.84, 0.82))#data points taken from iris dataset"
   ]
  },
  {
   "cell_type": "code",
   "execution_count": 8,
   "id": "0a7ca52b",
   "metadata": {},
   "outputs": [],
   "source": [
    "import seaborn as sns"
   ]
  },
  {
   "cell_type": "code",
   "execution_count": 9,
   "id": "da40a0d8",
   "metadata": {},
   "outputs": [
    {
     "data": {
      "text/plain": [
       "count    150.000000\n",
       "mean       5.843333\n",
       "std        0.828066\n",
       "min        4.300000\n",
       "25%        5.100000\n",
       "50%        5.800000\n",
       "75%        6.400000\n",
       "max        7.900000\n",
       "Name: sepal_length, dtype: float64"
      ]
     },
     "execution_count": 9,
     "metadata": {},
     "output_type": "execute_result"
    }
   ],
   "source": [
    "df = sns.load_dataset('iris')\n",
    "df['sepal_length'].describe()"
   ]
  },
  {
   "cell_type": "markdown",
   "id": "0d2c6336",
   "metadata": {},
   "source": [
    "### Q4. What are the properties of Binomial distribution? Give two examples of events where binomial distribution can be applied.\n"
   ]
  },
  {
   "cell_type": "markdown",
   "id": "7976e6c4",
   "metadata": {},
   "source": [
    "Binomial distribution is a discrete probability distribution where sequence of bernouli trials or experiments to be performed \n",
    "Properties \n",
    "- only two distinct outcomes possible either success or failure\n",
    "- trails are independent\n",
    "- probability of each trials are same \n",
    "- no. of trails are fixed \n",
    "\n",
    "examples \n",
    "- penality shootout in football match where each team gets 5 chance to goal \n",
    "- snakes & ladder game with fixed die can rolled and whoever at higher number won"
   ]
  },
  {
   "cell_type": "markdown",
   "id": "6893b0f3",
   "metadata": {},
   "source": [
    "### Q5. Generate a random sample of size 1000 from a binomial distribution with probability of success 0.4 and plot a histogram of the results using matplotlib.\n"
   ]
  },
  {
   "cell_type": "code",
   "execution_count": 15,
   "id": "57e35a38",
   "metadata": {},
   "outputs": [],
   "source": [
    "import numpy as np \n",
    "import matplotlib.pyplot as plt"
   ]
  },
  {
   "cell_type": "code",
   "execution_count": 19,
   "id": "1f041689",
   "metadata": {},
   "outputs": [
    {
     "data": {
      "image/png": "[encoded data removed]",
      "text/plain": [
       "<Figure size 640x480 with 1 Axes>"
      ]
     },
     "metadata": {},
     "output_type": "display_data"
    }
   ],
   "source": [
    "n= 1000\n",
    "p = 0.4\n",
    "sample = np.random.binomial(n, p , size = 1000)\n",
    "plt.hist(sample, bins= 10)\n",
    "plt.show()"
   ]
  },
  {
   "cell_type": "markdown",
   "id": "70b8f944",
   "metadata": {},
   "source": [
    "### Q6. Write a Python function to calculate the cumulative distribution function of a Poisson distribution with given mean at a given point.\n"
   ]
  },
  {
   "cell_type": "code",
   "execution_count": 22,
   "id": "0031bf48",
   "metadata": {},
   "outputs": [],
   "source": [
    "from math import exp , factorial\n",
    "from scipy.stats import poisson"
   ]
  },
  {
   "cell_type": "code",
   "execution_count": 26,
   "id": "1276be28",
   "metadata": {},
   "outputs": [],
   "source": [
    "#using scipy lib \n",
    "def poisson_cdf(k, m):\n",
    "    return poisson.cdf(k,m)"
   ]
  },
  {
   "cell_type": "code",
   "execution_count": 27,
   "id": "9703a0fd",
   "metadata": {},
   "outputs": [],
   "source": [
    "#using math lib\n",
    "def poisson_cdfM(k, m): \n",
    "    cdf = 0 \n",
    "    for i in range(k +1):\n",
    "        cdf += (m**i)*exp(-m)/factorial(i)\n",
    "    return cdf "
   ]
  },
  {
   "cell_type": "code",
   "execution_count": 28,
   "id": "78b4afdb",
   "metadata": {},
   "outputs": [
    {
     "name": "stdout",
     "output_type": "stream",
     "text": [
      "0.857123460498547\n",
      "0.8571234604985472\n"
     ]
    }
   ],
   "source": [
    "print(poisson_cdf(3,2))\n",
    "print(poisson_cdfM(3,2))"
   ]
  },
  {
   "cell_type": "markdown",
   "id": "9482f267",
   "metadata": {},
   "source": [
    "### Q7. How Binomial distribution different from Poisson distribution?\n"
   ]
  },
  {
   "cell_type": "markdown",
   "id": "6adf45dc",
   "metadata": {},
   "source": [
    "Both are discrete probability distribution that describe no. of success in fixed no. of trails \n",
    "however, there are some d/f as follows\n",
    "- Binomail describes probability of obtaining k success in n trails where trails has only two outcomes so probability of trails remains same \n",
    "- Poisson describes probability of experiencing k event during fixed period of time or space where even occure at constant rate independently"
   ]
  },
  {
   "cell_type": "markdown",
   "id": "93d9e9b9",
   "metadata": {},
   "source": [
    "### Q8. Generate a random sample of size 1000 from a Poisson distribution with mean 5 and calculate the sample mean and variance.\n"
   ]
  },
  {
   "cell_type": "code",
   "execution_count": 29,
   "id": "b0df512a",
   "metadata": {},
   "outputs": [
    {
     "name": "stdout",
     "output_type": "stream",
     "text": [
      "5.066\n",
      "2.1729344214678914\n"
     ]
    }
   ],
   "source": [
    "sample = np.random.poisson(5, 1000)\n",
    "sample_mean = np.mean(sample)\n",
    "sample_std = np.std(sample)\n",
    "print(sample_mean)\n",
    "print(sample_std)"
   ]
  },
  {
   "cell_type": "markdown",
   "id": "cbab29ab",
   "metadata": {},
   "source": [
    "### Q9. How mean and variance are related in Binomial distribution and Poisson distribution?\n"
   ]
  },
  {
   "cell_type": "code",
   "execution_count": 30,
   "id": "603bef57",
   "metadata": {},
   "outputs": [],
   "source": [
    "# Binomial distribution \n",
    "mean = np \n",
    "variance = np(1-p)\n",
    "(where n is no. of trials & p is probability of success) \n",
    "\n",
    "# Poisson distribution \n",
    "mean = variance = lambda λ\n",
    "(where λ represents avg no. of event occure in fixed period of time or space)"
   ]
  },
  {
   "cell_type": "markdown",
   "id": "771410ad",
   "metadata": {},
   "source": [
    "### Q10. In normal distribution with respect to mean position, where does the least frequent data appear?"
   ]
  },
  {
   "cell_type": "code",
   "execution_count": null,
   "id": "c6178571",
   "metadata": {},
   "outputs": [],
   "source": [
    "Least frequent data appears on the tail end of the normal distribution curve further away from this data \n",
    "considered to be as outliers"
   ]
  }
 ],
 "metadata": {
  "kernelspec": {
   "display_name": "Python 3 (ipykernel)",
   "language": "python",
   "name": "python3"
  },
  "language_info": {
   "codemirror_mode": {
    "name": "ipython",
    "version": 3
   },
   "file_extension": ".py",
   "mimetype": "text/x-python",
   "name": "python",
   "nbconvert_exporter": "python",
   "pygments_lexer": "ipython3",
   "version": "3.9.16"
  }
 },
 "nbformat": 4,
 "nbformat_minor": 5
}
