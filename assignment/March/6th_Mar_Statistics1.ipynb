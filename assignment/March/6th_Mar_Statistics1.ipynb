{
 "cells": [
  {
   "cell_type": "markdown",
   "id": "573e4cb2",
   "metadata": {},
   "source": [
    "### Q1. What is Statistics?\n"
   ]
  },
  {
   "cell_type": "code",
   "execution_count": null,
   "id": "53934270",
   "metadata": {},
   "outputs": [],
   "source": [
    "# Statistics is a science of collecting organizing and analyzing the data "
   ]
  },
  {
   "cell_type": "markdown",
   "id": "12f1e5f9",
   "metadata": {},
   "source": [
    "### Q2. Define the different types of statistics and give an example of when each type might be used.\n"
   ]
  },
  {
   "cell_type": "code",
   "execution_count": null,
   "id": "8d382ed0",
   "metadata": {},
   "outputs": [],
   "source": [
    "# there are two type of Statistics\n",
    "# 1 Descriptive Statistics: which consists of organizing & summarzing the data where 3 Main opertation can be performed \n",
    "#       1. Mean     2. Median     3. Mode\n",
    "\n",
    "# 2 Inferential Statistics: This refers to methods replys on Probability Theory and distribution in particular to predict \n",
    "#                           Population values based on Sample Data \n",
    "# in this different operation perform to achieve desired outcomes \n",
    "#       1. T- test  2. Z-test    3. Hypothesis testing    4. Variance    5 Standard deviation "
   ]
  },
  {
   "cell_type": "markdown",
   "id": "ed2d53ac",
   "metadata": {},
   "source": [
    "### Q3. What are the different types of data and how do they differ from each other? Provide an example of each type of data."
   ]
  },
  {
   "cell_type": "code",
   "execution_count": null,
   "id": "f09bf825",
   "metadata": {},
   "outputs": [],
   "source": [
    "# Data in statistics differentiated in basically two broad category: Type of Data & Measurement Level \n",
    "# both Type of data & Measurement Level further divided in two sub category each \n",
    "\n",
    "#   1 Type of Data:      (a). Catgorical Data ( describe Category or grps ex. Car brands : BMW, Audi, Toyota, Tata)\n",
    "#                        (b). Numerical Data  ( describe numerical ie. number included data. Further divided into two\n",
    "#                                  (1). Continuous: infinite, countless ex. time, weight, height,distance\n",
    "#                                  (2). Discrete: finite, countable ex. grades, no. of obj, Money)\n",
    "\n",
    "#   2 Measurement Level: (a). Qualitative : Categorical Data further divided in to two\n",
    "#                                  (1). Nominal: No order & can't be numbered ex. blood grp, cars, Seasons(winter, summer, autom, sprint\n",
    "#                                  (2). Ordinal: Grp or category which follows strict order ex. ratings, -ve to +ve , grades(A+,B..)\n",
    "#                        (b). Quantitative: Numerical data falls into this level of measurement which further divided into two\n",
    "#                                  (1). Interval: Order Rank matters but doesn't have True Zero \n",
    "#                                                ex. temp in farehnheite  & celsious (as they don't have true zero like in -ve too )\n",
    "#                                  (2). Ratio: Order Rank matters have true zero and ratio possibly explained \n",
    "#                                                ex. temp in Kelvin as 0Kelvin is true 0 , no. of object, distance, grade\n"
   ]
  },
  {
   "cell_type": "markdown",
   "id": "56ab9bc4",
   "metadata": {},
   "source": [
    "### Q4. Categorise the following datasets with respect to quantitative and qualitative data types:\n",
    "- (i) Grading in exam: A+, A, B+, B, C+, C, D, E\n",
    "- (ii) Colour of mangoes: yellow, green, orange, red\n",
    "- (iii) Height data of a class: [178.9, 179, 179.5, 176, 177.2, 178.3, 175.8,...]\n",
    "- (iv) Number of mangoes exported by a farm: [500, 600, 478, 672, ...]"
   ]
  },
  {
   "cell_type": "code",
   "execution_count": null,
   "id": "114b1b5a",
   "metadata": {},
   "outputs": [],
   "source": [
    "# (i) is a ORDINAL, QUALITATIVE\n",
    "# (ii) is NOMINAL, QUALITATIVE\n",
    "# (iii) is CONTINUOUS, QUANTITATIVE\n",
    "# (iv) is DISCRETE, QUANTITATIVE"
   ]
  },
  {
   "cell_type": "markdown",
   "id": "eaa9b16e",
   "metadata": {},
   "source": [
    "### Q5. Explain the concept of levels of measurement and give an example of a variable for each level.\n"
   ]
  },
  {
   "cell_type": "code",
   "execution_count": null,
   "id": "b121bdce",
   "metadata": {},
   "outputs": [],
   "source": [
    "# Measurement Level: \n",
    "#                    (a). Qualitative : Categorical Data further divided in to two\n",
    "#                              (1). Nominal: No order & can't be numbered ex. blood grp, cars, Seasons(winter, summer, autom, sprint\n",
    "#                              (2). Ordinal: Grp or category which follows strict order ex. ratings, -ve to +ve , grades(A+,B..)\n",
    "#                    (b). Quantitative: Numerical data falls into this level of measurement which further divided into two\n",
    "#                              (1). Interval: Order Rank matters but doesn't have True Zero \n",
    "#                                         ex. temp in farehnheite  & celsious (as they don't have true zero like in -ve too )\n",
    "#                              (2). Ratio: Order Rank matters have true zero and ratio possibly explained \n",
    "#                                         ex. temp in Kelvin as 0Kelvin is true 0 , no. of object, distance, grade\n"
   ]
  },
  {
   "cell_type": "markdown",
   "id": "23a1de23",
   "metadata": {},
   "source": [
    "### Q6. Why is it important to understand the level of measurement when analyzing data?\n",
    "Provide an example to illustrate your answer.\n"
   ]
  },
  {
   "cell_type": "code",
   "execution_count": null,
   "id": "eabc09c1",
   "metadata": {},
   "outputs": [],
   "source": [
    "# It indicates how precisely data is recorded and what statistical test can be performed on it.\n",
    "# So this makes it important while analyzing data \n",
    "# In Survey data analyzing one column we have is age and when we saw min and max to it we found \n",
    "# some negative value that is it is interval type which is not possible \n",
    "# similarly our IQ Score can't be negative "
   ]
  },
  {
   "cell_type": "markdown",
   "id": "29a7cf93",
   "metadata": {},
   "source": [
    "### Q7. How nominal data type is different from ordinal data type.\n"
   ]
  },
  {
   "cell_type": "code",
   "execution_count": null,
   "id": "116e555a",
   "metadata": {},
   "outputs": [],
   "source": [
    "# Nominal data type can't be numered and doesn't have any specific order\n",
    "# Nominal data is only used as measure of central tendency \n",
    "# Seasons of Nature(Summer, Winter, Spring, Autom) here no order matter \n",
    "# on the other hand Ordinal data type consist of grp of categories which follows strict order\n",
    "#example rating we provide to food delivery "
   ]
  },
  {
   "cell_type": "markdown",
   "id": "ae313cef",
   "metadata": {},
   "source": [
    "### Q8. Which type of plot can be used to display data in terms of range?\n"
   ]
  },
  {
   "cell_type": "code",
   "execution_count": null,
   "id": "a4abaf82",
   "metadata": {},
   "outputs": [],
   "source": [
    "# Scatter plot"
   ]
  },
  {
   "cell_type": "markdown",
   "id": "df646efd",
   "metadata": {},
   "source": [
    "### Q9. Describe the difference between descriptive and inferential statistics.\n",
    "Give an example of each type of statistics and explain how they are used.\n"
   ]
  },
  {
   "cell_type": "code",
   "execution_count": null,
   "id": "93203756",
   "metadata": {},
   "outputs": [],
   "source": [
    "# Descriptive Statistics: This uses Summary Statistics, graph, and table to describe the data set. \n",
    "            # this could help us to gain quick and easy understanding of data set without pouring overall individual data values\n",
    "            # mean, median, mode, variance, and standard deviation \n",
    "            # hist, boxplot, scatterplot and Frequency table that show how many data values fall within certain range\n",
    "# Inferential Statistics: This uses Samles to draw inferences about larger population. this is useful for making prediction \n",
    "            # testing hypotheses, estimating unknown parameters \n",
    "            # ex. estimating population mean , testing hypotheses about population mean "
   ]
  },
  {
   "cell_type": "markdown",
   "id": "d5f483ba",
   "metadata": {},
   "source": [
    "### Q10. What are some common measures of central tendency and variability used in statistics? \n",
    "Explain how each measure can be used to describe a dataset."
   ]
  },
  {
   "cell_type": "code",
   "execution_count": null,
   "id": "af18ce5f",
   "metadata": {},
   "outputs": [],
   "source": [
    "# Common Measure of Central Tendency: \n",
    "    # Mean: Arithmetic average of data set\n",
    "    # Median: Middle value of data set when ordered ascending order\n",
    "    # Mode: Most frequent occuring value in dataset\n",
    "# Common Measures of Variability: \n",
    "    # Range: diff btw max & min value in data set \n",
    "    # Standard deviation σ : how much values in data set deviate from mean\n",
    "    # Variance (σ)^2: Square of Standard Deviation"
   ]
  }
 ],
 "metadata": {
  "kernelspec": {
   "display_name": "Python 3 (ipykernel)",
   "language": "python",
   "name": "python3"
  },
  "language_info": {
   "codemirror_mode": {
    "name": "ipython",
    "version": 3
   },
   "file_extension": ".py",
   "mimetype": "text/x-python",
   "name": "python",
   "nbconvert_exporter": "python",
   "pygments_lexer": "ipython3",
   "version": "3.9.16"
  }
 },
 "nbformat": 4,
 "nbformat_minor": 5
}
