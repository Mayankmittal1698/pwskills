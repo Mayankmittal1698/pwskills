{
 "cells": [
  {
   "cell_type": "markdown",
   "id": "05b712c2",
   "metadata": {},
   "source": [
    "### Q1. What are the three measures of central tendency?\n"
   ]
  },
  {
   "cell_type": "code",
   "execution_count": null,
   "id": "4797516c",
   "metadata": {},
   "outputs": [],
   "source": [
    "# Measures of Central Tendency are: \n",
    "# Mean\n",
    "# Median \n",
    "# Mode"
   ]
  },
  {
   "cell_type": "markdown",
   "id": "f799f67e",
   "metadata": {},
   "source": [
    "### Q2. What is the difference between the mean, median, and mode? How are they used to measure the central tendency of a dataset?\n"
   ]
  },
  {
   "cell_type": "code",
   "execution_count": null,
   "id": "2a765ad3",
   "metadata": {},
   "outputs": [],
   "source": [
    "#Central tendency can be find out by observing \n",
    "#Mean: Average of total values in specific row/column of Population or Sample data\n",
    "#Median: Middle element after sorting the data \n",
    "#Mode: Most frequent values in our dataset\n",
    "\n",
    "# If dataset contains outlier these will badly effect our mean so to findout the outleirs in our dataset we can find\n",
    "# Median to see are there any outliers present or not and if yes then how much they effect our mean \n"
   ]
  },
  {
   "cell_type": "markdown",
   "id": "9f9650a1",
   "metadata": {},
   "source": [
    "### Q3. Measure the three measures of central tendency for the given height data:\n",
    "[178,177,176,177,178.2,178,175,179,180,175,178.9,176.2,177,172.5,178,176.5]\n"
   ]
  },
  {
   "cell_type": "code",
   "execution_count": 19,
   "id": "ec4a73ab",
   "metadata": {},
   "outputs": [
    {
     "name": "stdout",
     "output_type": "stream",
     "text": [
      "Data set give is :[178, 177, 176, 177, 178.2, 178, 175, 179, 180, 175, 178.9, 176.2, 177, 172.5, 178, 176.5]\n",
      "Mean for given array is 177.01875\n",
      "Median for give array is : 177.0\n",
      "Mode of give array is : ModeResult(mode=array([177.]), count=array([3]))\n"
     ]
    },
    {
     "name": "stderr",
     "output_type": "stream",
     "text": [
      "C:\\Users\\ASUS\\AppData\\Local\\Temp\\ipykernel_12716\\21275967.py:8: FutureWarning: Unlike other reduction functions (e.g. `skew`, `kurtosis`), the default behavior of `mode` typically preserves the axis it acts along. In SciPy 1.11.0, this behavior will change: the default value of `keepdims` will become False, the `axis` over which the statistic is taken will be eliminated, and the value None will no longer be accepted. Set `keepdims` to True or False to avoid this warning.\n",
      "  print(f'Mode of give array is : {stats.mode(array_data)}')\n"
     ]
    }
   ],
   "source": [
    "from scipy import stats\n",
    "import numpy as np \n",
    "data = [178,177,176,177,178.2,178,175,179,180,175,178.9,176.2,177,172.5,178,176.5]\n",
    "array_data = np.array(data)\n",
    "print(f'Data set give is :{data}')\n",
    "print(f'Mean for given array is {np.mean(array_data)}')\n",
    "print(f'Median for give array is : {np.median(array_data)}')\n",
    "print(f'Mode of give array is : {stats.mode(array_data)}')\n",
    "      "
   ]
  },
  {
   "cell_type": "markdown",
   "id": "48233bac",
   "metadata": {},
   "source": [
    "### Q4. Find the standard deviation for the given data:\n",
    "[178,177,176,177,178.2,178,175,179,180,175,178.9,176.2,177,172.5,178,176.5]\n"
   ]
  },
  {
   "cell_type": "code",
   "execution_count": 20,
   "id": "661fe8e2",
   "metadata": {},
   "outputs": [
    {
     "data": {
      "text/plain": [
       "1.7885814036548633"
      ]
     },
     "execution_count": 20,
     "metadata": {},
     "output_type": "execute_result"
    }
   ],
   "source": [
    "data = [178,177,176,177,178.2,178,175,179,180,175,178.9,176.2,177,172.5,178,176.5]\n",
    "arrray_data = np.array(data)\n",
    "array_data.std()"
   ]
  },
  {
   "cell_type": "markdown",
   "id": "a868ee38",
   "metadata": {},
   "source": [
    "### Q5. How are measures of dispersion such as range, variance, and standard deviation used to describe\n",
    "the spread of a dataset? Provide an example.\n"
   ]
  },
  {
   "cell_type": "code",
   "execution_count": 21,
   "id": "dbe2ade7",
   "metadata": {},
   "outputs": [],
   "source": [
    "#Range: It is the easiest dispersion of data where values lies in btw two outmost values lowest & highest\n",
    "# IQR helped us to determine the dispersion, IQR is Interquartile Range which suggest us the Range of our data values \n",
    "# without being influenced by outliers, and IQR sort our data and seperate into Q1, Q2 and Q3, where Q2 gave us median\n",
    "# Q1 first 25% data values Q3 last 25%\n",
    "\n",
    "# Variance is simple measure of dispersion, Variance measure how far each number in dataset from the mean.\n",
    "#(sigma)^2 = (sumation(x-m)^2)n\n",
    "\n",
    "# Standard Deviation: its nothing just Square root of Variance ie. sigma\n",
    "# Low standard deviation indicates data point close to mean better for large variance "
   ]
  },
  {
   "cell_type": "markdown",
   "id": "db79d95b",
   "metadata": {},
   "source": [
    "### Q6. What is a Venn diagram?\n"
   ]
  },
  {
   "cell_type": "code",
   "execution_count": null,
   "id": "419bfd78",
   "metadata": {},
   "outputs": [],
   "source": [
    "# Venn Diagram used to illustrate simple set relationships.\n",
    "# Venn diagram uses simple closed curves drawn on a plane mostly in circular shape\n",
    "# where if two plane data values matches Venn diagram overlapped to show intersected data value\n",
    "# whereas data value that doesn't match didn't overlap to each other\n",
    "# many plane can be drawn to showcased there relationship with each other if any "
   ]
  },
  {
   "cell_type": "markdown",
   "id": "23bd17a4",
   "metadata": {},
   "source": [
    "### Q7. For the two given sets A = (2,3,4,5,6,7) & B = (0,2,6,8,10). Find:\n",
    "<br>$$(i) A \\cap B$$\n",
    "<br>$$(ii) A ⋃ B$$\n"
   ]
  },
  {
   "cell_type": "code",
   "execution_count": 32,
   "id": "83c9ca28",
   "metadata": {},
   "outputs": [
    {
     "name": "stdout",
     "output_type": "stream",
     "text": [
      "Intersection(∩) :  {2, 6}\n",
      "Union (⋃):  {0, 2, 3, 4, 5, 6, 7, 8, 10}\n"
     ]
    }
   ],
   "source": [
    "a = {2,3,4,5,6,7};\n",
    "b = {0,2,6,8,10};\n",
    "print('Intersection(∩) : ', a & b)\n",
    "print('Union (⋃): ', a | b)"
   ]
  },
  {
   "cell_type": "markdown",
   "id": "60d068fa",
   "metadata": {},
   "source": [
    "### Q8. What do you understand about skewness in data?\n"
   ]
  },
  {
   "cell_type": "code",
   "execution_count": null,
   "id": "344936c5",
   "metadata": {},
   "outputs": [],
   "source": [
    "# Skewness measure how much data deviate from the normal or symmetrical distribution.\n",
    "# A normal distribution has zero skewness, meaning that its left & right side are mirro image\n",
    "# or sigma on left and right are equal or mean = median = mode\n",
    "\n",
    "# in symmetrical Distribution skewness can be right(+ve) or left(-ve) skew depending on whether the data \n",
    "#point are more spread on right or left side of the median. \n",
    "\n",
    "# skewness affect the mean median and mode of the data "
   ]
  },
  {
   "cell_type": "markdown",
   "id": "8bd98d52",
   "metadata": {},
   "source": [
    "### Q9. If a data is right skewed then what will be the position of median with respect to mean?\n"
   ]
  },
  {
   "cell_type": "code",
   "execution_count": null,
   "id": "232e0bf9",
   "metadata": {},
   "outputs": [],
   "source": [
    "# if a Data is right skewed then we can say \n",
    "# mean > Median \n",
    "# for right skewed data median will be less than mean. this is bcoz mean is affected more \n",
    "# by the extreme values on the right side of the distribution than median"
   ]
  },
  {
   "cell_type": "markdown",
   "id": "9ee3214f",
   "metadata": {},
   "source": [
    "### Q10. Explain the difference between covariance and correlation. How are these measures used in statistical analysis?\n"
   ]
  },
  {
   "cell_type": "code",
   "execution_count": null,
   "id": "1f083cc5",
   "metadata": {},
   "outputs": [],
   "source": [
    "# Covariance and Correlation both measures of how two variable changes togetheror vary with each other\n",
    "\n",
    "# covariance indicates the direction of linear relationship btw two variable \n",
    "# Correlation indicates the direction and strength of the linear relationship btw two variable \n",
    "\n",
    "# covariance values btw -ve to +ve infinity \n",
    "# correlation ranges btw -1 to +1 \n",
    "\n",
    "# covariance can be calculated as product of deviation of each variable from their respective mean \n",
    "# divided by number of observation \n",
    "# Correlation calculated as covariance of two variable divided by product of their Standard deviation\n"
   ]
  },
  {
   "cell_type": "markdown",
   "id": "995f57b4",
   "metadata": {},
   "source": [
    "### Q11. What is the formula for calculating the sample mean? Provide an example calculation for a dataset.\n"
   ]
  },
  {
   "cell_type": "code",
   "execution_count": 33,
   "id": "8d8eff55",
   "metadata": {},
   "outputs": [
    {
     "name": "stdout",
     "output_type": "stream",
     "text": [
      "70.5\n"
     ]
    },
    {
     "data": {
      "text/plain": [
       "70.5"
      ]
     },
     "execution_count": 33,
     "metadata": {},
     "output_type": "execute_result"
    }
   ],
   "source": [
    "# Formula for sample mean is:\n",
    "# S = (x1 + x2 + … + xn) / n\n",
    "# here S is sample mean and x1,x2,...xn are sample values, and n is sample size\n",
    "\n",
    "S = (80 + 48+ 90+ 60+ 75+ 70)/6\n",
    "print(S)\n",
    "# with the help of numpy \n",
    "data = [80, 48, 90, 60, 75, 70]\n",
    "np.mean(data)"
   ]
  },
  {
   "cell_type": "markdown",
   "id": "8001723c",
   "metadata": {},
   "source": [
    "### Q12. For a normal distribution data what is the relationship between its measure of central tendency?\n"
   ]
  },
  {
   "cell_type": "code",
   "execution_count": null,
   "id": "d8213e02",
   "metadata": {},
   "outputs": [],
   "source": [
    "# Normal distribution data is considered to be that whose Central tendency measures follows \n",
    "# Mean = Median = Mode \n",
    "# if we put all data point on plane then it gave Bell curve or Gaussian Curve on plane \n"
   ]
  },
  {
   "cell_type": "markdown",
   "id": "15062809",
   "metadata": {},
   "source": [
    "### Q13. How is covariance different from correlation?\n"
   ]
  },
  {
   "cell_type": "code",
   "execution_count": null,
   "id": "d6ba1cea",
   "metadata": {},
   "outputs": [],
   "source": [
    "# Covariance reveals how two variable change together while correlation determines how closely \n",
    "# two variable are related to each ohter \n",
    "\n",
    "# both covariance and Correlation measure the relationship and dependency btw two variables\n",
    "\n",
    "# covariance values fluctuate soo much that's why we need correlation "
   ]
  },
  {
   "cell_type": "markdown",
   "id": "f2498ded",
   "metadata": {},
   "source": [
    "### Q14. How do outliers affect measures of central tendency and dispersion? Provide an example."
   ]
  },
  {
   "cell_type": "code",
   "execution_count": 52,
   "id": "b28c3c47",
   "metadata": {},
   "outputs": [
    {
     "name": "stdout",
     "output_type": "stream",
     "text": [
      "Mean without any outlier 3.0\n",
      "median  3.0\n",
      "mode ModeResult(mode=array([1]), count=array([1]))\n",
      "variance  1308.4722222222222\n",
      "\n",
      "Mean with outliers 19.166666666666668\n",
      "Median  3.5\n",
      "Mode  ModeResult(mode=array([1]), count=array([1]))\n",
      "var 1308.4722222222222\n"
     ]
    },
    {
     "name": "stderr",
     "output_type": "stream",
     "text": [
      "C:\\Users\\ASUS\\AppData\\Local\\Temp\\ipykernel_12716\\81947502.py:9: FutureWarning: Unlike other reduction functions (e.g. `skew`, `kurtosis`), the default behavior of `mode` typically preserves the axis it acts along. In SciPy 1.11.0, this behavior will change: the default value of `keepdims` will become False, the `axis` over which the statistic is taken will be eliminated, and the value None will no longer be accepted. Set `keepdims` to True or False to avoid this warning.\n",
      "  print('mode', stats.mode(data))\n",
      "C:\\Users\\ASUS\\AppData\\Local\\Temp\\ipykernel_12716\\81947502.py:16: FutureWarning: Unlike other reduction functions (e.g. `skew`, `kurtosis`), the default behavior of `mode` typically preserves the axis it acts along. In SciPy 1.11.0, this behavior will change: the default value of `keepdims` will become False, the `axis` over which the statistic is taken will be eliminated, and the value None will no longer be accepted. Set `keepdims` to True or False to avoid this warning.\n",
      "  print('Mode ', stats.mode(data1))\n"
     ]
    }
   ],
   "source": [
    "# Outliers have significant impact on measure of tendency and dispersion.\n",
    "# outliers particularly impact mean because it take into account all value in the dataset \n",
    "# Mode and median some how less likely to be affected by outliers because they consider middle and frequency respectively\n",
    "\n",
    "data =np.array([1,2,3,4,5])\n",
    "\n",
    "print('Mean without any outlier', data.mean())\n",
    "print('median ',np.median(data))\n",
    "print('mode', stats.mode(data))\n",
    "print('variance ', np.var(data1))\n",
    "\n",
    "# Data with outliers\n",
    "data1 = np.array([1,2,3,4,5,100])\n",
    "print('\\nMean with outliers', data1.mean())\n",
    "print('Median ', np.median(data1))\n",
    "print('Mode ', stats.mode(data1))\n",
    "print('var', np.var(data1))\n",
    "\n",
    "# Range of First data is 4 \n",
    "# Range of second ie. data1 is 99 \n",
    "\n",
    "# from this we can clearly say outliers has huge impact on Central Tendency measures and Dispersion"
   ]
  }
 ],
 "metadata": {
  "kernelspec": {
   "display_name": "Python 3 (ipykernel)",
   "language": "python",
   "name": "python3"
  },
  "language_info": {
   "codemirror_mode": {
    "name": "ipython",
    "version": 3
   },
   "file_extension": ".py",
   "mimetype": "text/x-python",
   "name": "python",
   "nbconvert_exporter": "python",
   "pygments_lexer": "ipython3",
   "version": "3.9.16"
  }
 },
 "nbformat": 4,
 "nbformat_minor": 5
}
