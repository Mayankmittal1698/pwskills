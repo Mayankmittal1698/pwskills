{
 "cells": [
  {
   "cell_type": "markdown",
   "id": "c4a76b23",
   "metadata": {},
   "source": [
    "Q1: What is Estimation Statistics? Explain point estimate and interval estimate."
   ]
  },
  {
   "cell_type": "code",
   "execution_count": null,
   "id": "673dcc55",
   "metadata": {},
   "outputs": [],
   "source": [
    "Estimation refers to process by which one makes inference about a population based on info obtained from a sample\n",
    "\n",
    "Estimation in statistics is of two types \n",
    "1. Point Estimate: single value of a population parameter of a statistics. for eg. \n",
    "        sample mean x is a point estimate of population mean μ\n",
    "        \n",
    "2. Interval Estimate: two numbers btw which a population parameter said to lie \n",
    "        for ex. a<x<b is an interval estimate of population mean μ, here population mean is greater than \n",
    "        a but less than b. \n",
    "\n"
   ]
  },
  {
   "cell_type": "markdown",
   "id": "f3a7f0f4",
   "metadata": {},
   "source": [
    "Q2. Write a Python function to estimate the population mean using a sample mean and standard\n",
    "deviation.\n"
   ]
  },
  {
   "cell_type": "code",
   "execution_count": 3,
   "id": "52f1ceb4",
   "metadata": {},
   "outputs": [
    {
     "name": "stdout",
     "output_type": "stream",
     "text": [
      "(4.225241973258747, 5.774758026741253)\n"
     ]
    }
   ],
   "source": [
    "from math import sqrt\n",
    "def estimate_pop_mean(sample_mean , std_dev, size):\n",
    "    standard_error = std_dev/sqrt(size)\n",
    "    # margin_error for 95% confidence interval, z-score(0.025) 1.96\n",
    "    margin_error = 1.96* standard_error\n",
    "    lower_mean = sample_mean - margin_error\n",
    "    upper_mean = sample_mean + margin_error\n",
    "    return (lower_mean/2, upper_mean/2)\n",
    "\n",
    "mean = 10 \n",
    "std = 5\n",
    "size = 40 \n",
    "print(estimate_pop_mean(mean, std, size))"
   ]
  },
  {
   "cell_type": "markdown",
   "id": "79ab3fde",
   "metadata": {},
   "source": [
    "Q3: What is Hypothesis testing? Why is it used? State the importance of Hypothesis testing.\n"
   ]
  },
  {
   "cell_type": "markdown",
   "id": "73cae544",
   "metadata": {},
   "source": [
    "<p><b><i>Hypothesis testing</i></b> is form of inferential statistics that uses data from sample to draw conclusion about population parameter\n",
    "or probability distribution<br>\n",
    "This is used to determine whether hypothesis about a population parameter is supported data<br>\n",
    "To do this we formulate <b><i>null hypothesis</i></b> which states there is no significant diff. btw two grp or btw two variable\n",
    "and an <b><i>Alternate hypothesis</i></b>, which is just opposite of null hypothesis\n",
    "\n",
    "<p>By using different statistical method to test hypo we can determine whether a two groups are significantly different from each other or any relationship btw them. this can help us to make decision to make any changes for better outcomes</p>\n",
    "\n",
    "<p> \n",
    "- It helps to ensure that scientific research is conducted rigorously & systematically\n",
    "- Validating our findings are valid & reliable \n",
    "</p>"
   ]
  },
  {
   "cell_type": "markdown",
   "id": "1c2a8f40",
   "metadata": {},
   "source": [
    "Q4. Create a hypothesis that states whether the average weight of male college students is greater than\n",
    "the average weight of female college students.\n"
   ]
  },
  {
   "cell_type": "code",
   "execution_count": null,
   "id": "ae8ed651",
   "metadata": {},
   "outputs": [],
   "source": [
    "To prove avg weight of male > avg weight of female\n",
    "Null hypothesis, Ho = avg weight of male <= avg weight of female\n",
    "or \n",
    "Ho = m_male<=m_female\n",
    "\n",
    "so \n",
    "Alernate hypothesis, H1 = avg weight of male > avg weight of female \n",
    "H1 = m_male > m_female \n",
    "\n",
    "where m_male is population mean weight of male and m_female is population mean weight of female\n",
    "\n",
    "By collecting random sampling and applying statistical test like t-test we can \n",
    "reject our null hypothesis to prove our given statement"
   ]
  },
  {
   "cell_type": "markdown",
   "id": "f61791d5",
   "metadata": {},
   "source": [
    "Q5. Write a Python script to conduct a hypothesis test on the difference between two population means,\n",
    "given a sample from each population.\n"
   ]
  },
  {
   "cell_type": "code",
   "execution_count": 16,
   "id": "c25cff63",
   "metadata": {},
   "outputs": [],
   "source": [
    "import numpy as np \n",
    "from scipy import stats\n",
    "import matplotlib.pyplot as plt\n",
    "rng = np.random.default_rng()"
   ]
  },
  {
   "cell_type": "code",
   "execution_count": 11,
   "id": "aa18367f",
   "metadata": {},
   "outputs": [
    {
     "name": "stdout",
     "output_type": "stream",
     "text": [
      "t-statistics 0.34468673983913706\n",
      "p_value 0.7304025104865688\n"
     ]
    }
   ],
   "source": [
    "# generating random Normal sample of size 500\n",
    "sample1 = stats.norm.rvs(loc = 5, scale = 10, size = 500, random_state = rng)\n",
    "sample2 = stats.norm.rvs(loc = 5, scale = 10, size = 500, random_state = rng)\n",
    "\n",
    "tstat, p_value = stats.ttest_ind(sample1, sample2)\n",
    "print(\"t-statistics\", tstat)\n",
    "print('p_value', p_value)"
   ]
  },
  {
   "cell_type": "markdown",
   "id": "fceee147",
   "metadata": {},
   "source": [
    "Q6: What is a null and alternative hypothesis? Give some examples.\n"
   ]
  },
  {
   "cell_type": "markdown",
   "id": "6be29799",
   "metadata": {},
   "source": [
    "Null Hypothesis: Explains the population parameters whose purpose is to test that validity \n",
    "    of the given experimental data.\n",
    "we usually consider Null hypothesis to be true and try to prove it false if we fail that means we accept null hypo else reject \n",
    "Null hypothesis denoted by Ho, Ho states that there is zero happening\n",
    "eg. there is no connection among grp or no association btw two measure events\n",
    "Alternate Hypothesis: This is contradictory of Null hypothesis, denoted by H1, if Ho predict something to be true then H1 predicts it to be false\n",
    "\n",
    "eg. taking Ho example for that alternate hypo be \n",
    "There is some connection among grp and association btw two measure events"
   ]
  },
  {
   "cell_type": "markdown",
   "id": "44c80ca5",
   "metadata": {},
   "source": [
    "Q7: Write down the steps involved in hypothesis testing.\n"
   ]
  },
  {
   "cell_type": "code",
   "execution_count": null,
   "id": "a74ea3bf",
   "metadata": {},
   "outputs": [],
   "source": [
    "Steps involved in Hypothesis testing : \n",
    "    - formulating Null hypothesis\n",
    "        assumption we are beginning with \n",
    "    - Alternate hypothesis\n",
    "        opposite of null hypothesi\n",
    "    - Experiments\n",
    "        Statistical test\n",
    "    - accept or reject null hypo"
   ]
  },
  {
   "cell_type": "markdown",
   "id": "02d5addd",
   "metadata": {},
   "source": [
    "Q8. Define p-value and explain its significance in hypothesis testing.\n"
   ]
  },
  {
   "cell_type": "markdown",
   "id": "ebd8ff23",
   "metadata": {},
   "source": [
    "Hypothesis test involves measuring the strength of disagreement between sample and Ho to produce a number btw 0 and 1 called <b><i>P-Value</i></b><br>\n",
    "Smaller the P-value, stronger the evidence is against Ho, if P-value is sufficiently small we may reject the null hypothesis"
   ]
  },
  {
   "cell_type": "markdown",
   "id": "fb9832ba",
   "metadata": {},
   "source": [
    "Q9. Generate a Student's t-distribution plot using Python's matplotlib library, with the degrees of freedom\n",
    "parameter set to 10.\n"
   ]
  },
  {
   "cell_type": "code",
   "execution_count": 17,
   "id": "128b7a50",
   "metadata": {},
   "outputs": [
    {
     "data": {
      "image/png": "[encoded data removed]",
      "text/plain": [
       "<Figure size 640x480 with 1 Axes>"
      ]
     },
     "metadata": {},
     "output_type": "display_data"
    }
   ],
   "source": [
    "df = 10 \n",
    "x = np.linspace(-10,10, 1000)\n",
    "# probability density function \n",
    "y = stats.t.pdf(x, df)\n",
    "\n",
    "plt.plot(x, y ) \n",
    "plt.title('Student T-Distribution with df  = 10') \n",
    "plt.xlabel(\"x\")\n",
    "plt.ylabel(\"Probability density\")\n",
    "plt.show()"
   ]
  },
  {
   "cell_type": "markdown",
   "id": "84d07838",
   "metadata": {},
   "source": [
    "Q10. Write a Python program to calculate the two-sample t-test for independent samples, given two\n",
    "random samples of equal size and a null hypothesis that the population means are equal.\n"
   ]
  },
  {
   "cell_type": "code",
   "execution_count": 19,
   "id": "a3cca7e5",
   "metadata": {},
   "outputs": [
    {
     "name": "stdout",
     "output_type": "stream",
     "text": [
      "t-statistics -0.051783476057417295\n",
      "p_value 0.9587115848806872\n"
     ]
    }
   ],
   "source": [
    "# generating random Normal sample of size 500\n",
    "sample1 = stats.norm.rvs(loc = 5, scale = 10, size = 500, random_state = rng)\n",
    "sample2 = stats.norm.rvs(loc = 5, scale = 10, size = 500, random_state = rng)\n",
    "\n",
    "tstat, p_value = stats.ttest_ind(sample1, sample2, equal_var=False)\n",
    "print(\"t-statistics\", tstat)\n",
    "print('p_value', p_value)"
   ]
  },
  {
   "cell_type": "markdown",
   "id": "a89a3f67",
   "metadata": {},
   "source": [
    "Q11: What is Student’s t distribution? When to use the t-Distribution.\n"
   ]
  },
  {
   "cell_type": "markdown",
   "id": "7c5d5cdc",
   "metadata": {},
   "source": [
    "<p><b><i>Student's t-distribution</i></b> is a way of describing data that follow bell curve when plotted on graph, A type of Normal Distribution used for samller sample sizes where the variance is unkown</p>\n",
    "\n",
    "use case: \n",
    "- when Variance of data is unknown \n",
    "- when sample size is small \n"
   ]
  },
  {
   "cell_type": "markdown",
   "id": "597542de",
   "metadata": {},
   "source": [
    "Q12: What is t-statistic? State the formula for t-statistic.\n"
   ]
  },
  {
   "cell_type": "markdown",
   "id": "60c9123a",
   "metadata": {},
   "source": [
    "<p><b><i> T-statistics</i></b> is a measure of how many standard error a sample mean is away from population mean, often used to determine whether there is a significant difference between mean of two samples\n",
    "</p>\n",
    "\n",
    "<b>Formula for t-statistics:</b>\n",
    "t = (x1-x2)/(s√(1/n1 + 1/n2))\n",
    "\n",
    "x1 and x2 are sample mean \n",
    "s is pooled standard deviation of two samples\n",
    "\n",
    "s = √((n1-1)s1^2 + (n2-1)s2^2)/(n1 + n2 -2)\n",
    "\n",
    "s1 and s2 are standard deviation of two samples\n",
    "</p>"
   ]
  },
  {
   "cell_type": "code",
   "execution_count": 22,
   "id": "c8dd234e",
   "metadata": {},
   "outputs": [],
   "source": [
    "Q13. A coffee shop owner wants to estimate the average daily revenue for their shop. They take a random\n",
    "sample of 50 days and find the sample mean revenue to be $500 with a standard deviation of $50 .\n",
    "Estimate the population mean revenue with a 95% confidence interval."
   ]
  },
  {
   "cell_type": "code",
   "execution_count": null,
   "id": "ebebbcf2",
   "metadata": {},
   "outputs": [],
   "source": [
    "n = 50 \n",
    "mean,x = $500\n",
    "std,s = $50\n",
    "confidence interval  = 95% \n",
    "find population mean  = x +- ME\n",
    "t = 2.009\n",
    "ME = t*(s/sqrt(n))\n",
    "ME = 2.009(50/sqrt(50))\n",
    "ME = 14.205\n",
    "confidence interval = 500 +- 14.205\n",
    "(514.2, 485.7)"
   ]
  },
  {
   "cell_type": "markdown",
   "id": "15f67a40",
   "metadata": {},
   "source": [
    "Q14. A researcher hypothesizes that a new drug will decrease blood pressure by 10 mmHg. They conduct a\n",
    "clinical trial with 100 patients and find that the sample mean decrease in blood pressure is 8 mmHg with a\n",
    "standard deviation of 3 mmHg. Test the hypothesis with a significance level of 0.05.\n"
   ]
  },
  {
   "cell_type": "code",
   "execution_count": null,
   "id": "bc317ae6",
   "metadata": {},
   "outputs": [],
   "source": [
    "n = 100\n",
    "x̄ = 8mmHg\n",
    "std,s = 3mmHg\n",
    "miu = 10\n",
    "significance = 0.05\n",
    "\n",
    "for hypothesis first lets consider hypothesis \n",
    "null hypothesis, Ho  = pressure doesn't decrease by 10 or more \n",
    "Alternate hypothesis, H1 != pressure decrease by 10 or more \n",
    "\n",
    "\n",
    "t-value = (x-miu)/(s/sqrt(n))\n",
    "=> (8-10)/(3/sqrt(100))\n",
    "=> -2/0.3\n",
    "=> -6.66\n",
    "\n",
    "now find critical value \n",
    "degree of freedom = 99 \n",
    "from t table we got +-1.9842\n",
    "\n",
    "t-value is way larger than critical value soo we can reject null hypothesis also the value of s\n",
    "is comparably too high for medical field we need to look at this \n"
   ]
  },
  {
   "cell_type": "markdown",
   "id": "4fa2ded7",
   "metadata": {},
   "source": [
    "Q15. An electronics company produces a certain type of product with a mean weight of 5 pounds and a\n",
    "standard deviation of 0.5 pounds. A random sample of 25 products is taken, and the sample mean weight\n",
    "is found to be 4.8 pounds. Test the hypothesis that the true mean weight of the products is less than 5\n",
    "pounds with a significance level of 0.01.\n"
   ]
  },
  {
   "cell_type": "code",
   "execution_count": null,
   "id": "1bb9be9f",
   "metadata": {},
   "outputs": [],
   "source": [
    "null hypo, Ho = 5\n",
    "alternate Hypo, H1 >5(asked to prove)\n",
    "\n",
    "mean, miu = 5pound \n",
    "std, sigma= 0.5 pound \n",
    "n = 25\n",
    "x = 4.8 pound \n",
    "miu = 4.8 pound\n",
    "\n",
    "t-value = (x-miu)/(s/sqrt(n))\n",
    "=> (4.8-5.0)/(0.5/sqrt(25))\n",
    "=> -0.2/0.1\n",
    "=> -2\n",
    "now lets find critical value for true mean less than 5pounds significance 0.01 from t table \n",
    "dof = 24\n",
    "critical value = -2.492\n",
    "\n",
    "-2>>-2.492 soo we reject the null hypo and conclude that mean weight is less than 5 pound"
   ]
  },
  {
   "cell_type": "markdown",
   "id": "21daafc0",
   "metadata": {},
   "source": [
    "Q16. Two groups of students are given different study materials to prepare for a test. The first group (n1 =\n",
    "30) has a mean score of 80 with a standard deviation of 10, and the second group (n2 = 40) has a mean\n",
    "score of 75 with a standard deviation of 8. Test the hypothesis that the population means for the two\n",
    "groups are equal with a significance level of 0.01.\n"
   ]
  },
  {
   "cell_type": "code",
   "execution_count": null,
   "id": "e5bd0daa",
   "metadata": {},
   "outputs": [],
   "source": [
    "n1 = 30 \n",
    "x1 = 80\n",
    "s1 = 10\n",
    "n2 = 40 \n",
    "x2 = 75\n",
    "s2 = 8 \n",
    "\n",
    "test statistics = (x1-x2)/sqrt((s1^2/n1) + (s2^2/n2))\n",
    "=> (80-75)/sqrt(100/30 + 64/40)\n",
    "=> 5/2.22\n",
    "=> 2.25\n",
    "\n",
    "now find critical value\n",
    "n1+n2 -2 => 30+40 - 2 => 78\n",
    "dof = 78\n",
    "significance value 0.01\n",
    "\n",
    "critical value = 2.65\n",
    "\n",
    "2.25<<2.65 \n",
    "\n",
    "soo we can't reject our null hypothesis so population mean can be equal for both these at 0.01 significance\n"
   ]
  },
  {
   "cell_type": "markdown",
   "id": "1905e4ec",
   "metadata": {},
   "source": [
    "Q17. A marketing company wants to estimate the average number of ads watched by viewers during a TV\n",
    "program. They take a random sample of 50 viewers and find that the sample mean is 4 with a standard\n",
    "deviation of 1.5. Estimate the population mean with a 99% confidence interval."
   ]
  },
  {
   "cell_type": "code",
   "execution_count": null,
   "id": "8f7ab8e8",
   "metadata": {},
   "outputs": [],
   "source": [
    "n = 50 \n",
    "x = 4 \n",
    "std, s = 1.5\n",
    "confidence interval = 99%\n",
    "\n",
    "Aim : finding Population mean \n",
    "    \n",
    "\n",
    "confidence interval =sample mean +- critical value* Standard Error\n",
    "critical value for 0.01 significance with 49 degree of freedom = 2.68\n",
    "ME = 2.68(1.5/sqrt(50))\n",
    "=> 0.568\n",
    "\n",
    "Population mean = 4+-0.568\n",
    "(3.432, 4.568)"
   ]
  }
 ],
 "metadata": {
  "kernelspec": {
   "display_name": "Python 3 (ipykernel)",
   "language": "python",
   "name": "python3"
  },
  "language_info": {
   "codemirror_mode": {
    "name": "ipython",
    "version": 3
   },
   "file_extension": ".py",
   "mimetype": "text/x-python",
   "name": "python",
   "nbconvert_exporter": "python",
   "pygments_lexer": "ipython3",
   "version": "3.9.16"
  }
 },
 "nbformat": 4,
 "nbformat_minor": 5
}
