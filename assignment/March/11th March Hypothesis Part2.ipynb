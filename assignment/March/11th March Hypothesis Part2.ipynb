{
 "cells": [
  {
   "cell_type": "markdown",
   "id": "292c7023",
   "metadata": {},
   "source": [
    "Q1: What is the difference between a t-test and a z-test? Provide an example scenario where you would\n",
    "use each type of test.\n"
   ]
  },
  {
   "cell_type": "code",
   "execution_count": null,
   "id": "01d32318",
   "metadata": {},
   "outputs": [],
   "source": [
    "t and z -test both used to compare means of two grps or to perform hypothesis testing \n",
    "z-test is performed when Population standard variance is known while t-test assumes to be when its unkown\n",
    "z-test generally used when sample size is equal to or greater than 30\n",
    "while t-test generally used when sample size is small "
   ]
  },
  {
   "cell_type": "markdown",
   "id": "ce4c4bbe",
   "metadata": {},
   "source": [
    "Q2: Differentiate between one-tailed and two-tailed tests.\n"
   ]
  },
  {
   "cell_type": "code",
   "execution_count": null,
   "id": "ee3b2286",
   "metadata": {},
   "outputs": [],
   "source": [
    "when we plot our hypothesis and on plot our rejection region is on both end then it is called two tail test \n",
    "whereas when rejection region is only one sided then it's called one-tailed test"
   ]
  },
  {
   "cell_type": "markdown",
   "id": "58136539",
   "metadata": {},
   "source": [
    "Q3: Explain the concept of Type 1 and Type 2 errors in hypothesis testing. Provide an example scenario for\n",
    "each type of error.\n"
   ]
  },
  {
   "cell_type": "code",
   "execution_count": null,
   "id": "5a8bc43f",
   "metadata": {},
   "outputs": [],
   "source": [
    "Type 1 error: when we reject the true null hypothesis (i.e we wrongly reject null hypo that we have to accept)\n",
    "Type 2 error: when we accept the false null hypothesis(i.e. we wrongly accept null hypo that we have to reject)"
   ]
  },
  {
   "cell_type": "markdown",
   "id": "57605d0b",
   "metadata": {},
   "source": [
    "Q4: Explain Bayes's theorem with an example.\n"
   ]
  },
  {
   "cell_type": "code",
   "execution_count": null,
   "id": "9748e85e",
   "metadata": {},
   "outputs": [],
   "source": [
    "Bayes's theorem used to calculate conditional probabilities based on prior knowledge of conditions that \n",
    "might be related to the even \n",
    "Formula for Bayes's Theorem \n",
    "P(A|B) = P(B|A) x P(A) / P(B)\n",
    "ex. : consider we have 3 red and 2 blue balls out of these 1 ball drawn randomly. probability of red ball = 3/5\n",
    "    and now after taking one probab. of next ball to be blue is 2/4 if previous ball drawn out to be red\n",
    "    \n",
    "so the probability of occurrence of an event is calculated depending on other conditions "
   ]
  },
  {
   "cell_type": "markdown",
   "id": "ac829400",
   "metadata": {},
   "source": [
    "Q5: What is a confidence interval? How to calculate the confidence interval, explain with an example.\n"
   ]
  },
  {
   "cell_type": "code",
   "execution_count": null,
   "id": "aa9dbf9d",
   "metadata": {},
   "outputs": [],
   "source": [
    "Confidence interval is a range in which our population mean to be existed drived from sample mean and data\n",
    "\n",
    "to drive Confidence interval\n",
    "CI = sample_mean +- Critical value*standard error\n",
    "\n",
    "considering sample mean to be 20 with variance 3 having sample size 40 of 95% confidence \n",
    "CI can be calculated as follows: \n",
    "    20 +- t*(3/sqrt(40))\n",
    "    critical value t, for degree of freedom 40-1, ie. 39 from t table using 95% is 2.0227\n",
    "    20 +- 2.02(3/sqrt(40))\n",
    "    20+-0.95\n",
    "CI = (19.5, 20.95)"
   ]
  },
  {
   "cell_type": "markdown",
   "id": "9013a3d1",
   "metadata": {},
   "source": [
    "Q6. Use Bayes' Theorem to calculate the probability of an event occurring given prior knowledge of the\n",
    "event's probability and new evidence. Provide a sample problem and solution.\n"
   ]
  },
  {
   "cell_type": "code",
   "execution_count": 2,
   "id": "d3e8cccb",
   "metadata": {},
   "outputs": [],
   "source": [
    "Problem \n",
    "\n",
    "Suppose a medical test to be 95% accurate and a disease known to occure to 1% of population. \n",
    "if test is +ve what is probability of having disease\n",
    "\n",
    "let A be a person test +ve\n",
    "B be the person having disease\n",
    "so probability of A, P(A) = 1% or 0.1\n",
    "probability of evidence B has occured to A, P(B|A) = 0.95\n",
    "probability of evidence B has not occurect to A, P(B|not A) = 0.05\n",
    "USING these lets find out probability of having disease:\n",
    "    \n",
    "P(A|B) = P(B|A) x P(A) / (P(B|A) x P(A) + P(B|not A) x P(not A))\n",
    "        = 0.95 x 0.01 / (0.95 x 0.01 + 0.05 x 0.99)\n",
    "        = 0.161\n",
    "        \n",
    "16.1% posiblity of having a disease and tested positive too "
   ]
  },
  {
   "cell_type": "markdown",
   "id": "c17f8a4c",
   "metadata": {},
   "source": [
    "Q7. Calculate the 95% confidence interval for a sample of data with a mean of 50 and a standard deviation\n",
    "of 5. Interpret the results.\n"
   ]
  },
  {
   "cell_type": "code",
   "execution_count": null,
   "id": "d3aa8680",
   "metadata": {},
   "outputs": [],
   "source": [
    "confidence interval = 95% => 0.05=> 0.025\n",
    "z value of 1-0.025 = 0.975 => 1.96\n",
    "standard deviation = 5\n",
    "mean = 50\n",
    "\n",
    "confidence interval = mean +- (z-score* standard Error) \n",
    "\n",
    "standard error = std/sqrt(n)\n",
    "thought n is not given lets take sample be of 100 size \n",
    "soo \n",
    "SE = 5/sqrt(100)\n",
    "SE = 0.5\n",
    "confidence interval = 50 +- 1.96*0.5 => 50+- 0.98\n",
    "\n",
    "(49.02, 50.98)"
   ]
  },
  {
   "cell_type": "markdown",
   "id": "9b19c6d5",
   "metadata": {},
   "source": [
    "Q8. What is the margin of error in a confidence interval? How does sample size affect the margin of error?\n",
    "Provide an example of a scenario where a larger sample size would result in a smaller margin of error.\n"
   ]
  },
  {
   "cell_type": "code",
   "execution_count": null,
   "id": "5d6394f3",
   "metadata": {},
   "outputs": [],
   "source": [
    "Margin of error is test_statistics*Standard_error in confidence interval \n",
    "\n",
    "confidence interval formula :     |----Margin of error----|\n",
    "    confidence interval = mean +- (z-score* standard Error) \n",
    "\n",
    "Sample size is inversely propotional to Margin of error i.e higher the sample size lower the ME and vice a versa \n",
    "\n",
    "consider population mean 70, and a standard deviation of 5, with sample size 30 with 95% CI. calculated z value for 95% is 1.96\n",
    "solution \n",
    "Margin of error = 1.96*(5/sqrt(30))\n",
    "ME = 1.789\n",
    "\n",
    "now lets find same ME with sample size of 60\n",
    "ie. ME(n=60) = 1.265\n",
    "\n",
    "clearly a larger sample size yield a smaller ME"
   ]
  },
  {
   "cell_type": "markdown",
   "id": "669da810",
   "metadata": {},
   "source": [
    "Q9. Calculate the z-score for a data point with a value of 75, a population mean of 70, and a population\n",
    "standard deviation of 5. Interpret the results.\n"
   ]
  },
  {
   "cell_type": "code",
   "execution_count": null,
   "id": "e4ee3997",
   "metadata": {},
   "outputs": [],
   "source": [
    "z = (x-miu)/sigma\n",
    "x = 75\n",
    "miu = 70\n",
    "sigma = 5 \n",
    "\n",
    "z = (75-70)/5\n",
    "z = 1\n",
    "\n",
    "z value 1 suggest that 75 is just one standard deviation ahead from population mean"
   ]
  },
  {
   "cell_type": "markdown",
   "id": "cfacc039",
   "metadata": {},
   "source": [
    "Q10. In a study of the effectiveness of a new weight loss drug, a sample of 50 participants lost an average\n",
    "of 6 pounds with a standard deviation of 2.5 pounds. Conduct a hypothesis test to determine if the drug is\n",
    "significantly effective at a 95% confidence level using a t-test.\n"
   ]
  },
  {
   "cell_type": "code",
   "execution_count": null,
   "id": "f539a6a2",
   "metadata": {},
   "outputs": [],
   "source": [
    "Hypo test\n",
    "Null hypo, Ho = 0 {no change from weight loss drug}\n",
    "Alternate hypo, H1 != 0 \n",
    "\n",
    "n = 50\n",
    "x = 6 \n",
    "population mean, miu = 0 { no change in wait without drug}\n",
    "std = 2.5\n",
    "confidence level = 95% \n",
    "\n",
    "First find Significance level: \n",
    "    95% and degree of freedom = 50-1 ie. 49 \n",
    "    is +- 2.009\n",
    "    \n",
    "now calculate the test statistics \n",
    "t = (x-miu)/(s/sqrt(n))\n",
    "t = (6-0)/(2.5/sqrt(50))\n",
    "t = 6/0.3535 => 16.97\n",
    "\n",
    "now find p-value for the statistics \n",
    "so t value is +- 16.97 whose p-value is lower than 0.0001 \n",
    "so for significance level 0.05 we can reject this hypothesis and also the null hypothesis \n",
    "and we can say that drug did some changes to weight loss program"
   ]
  },
  {
   "cell_type": "markdown",
   "id": "fba63ebb",
   "metadata": {},
   "source": [
    "Q11. In a survey of 500 people, 65% reported being satisfied with their current job. Calculate the 95%\n",
    "confidence interval for the true proportion of people who are satisfied with their job.\n"
   ]
  },
  {
   "cell_type": "code",
   "execution_count": null,
   "id": "823b0342",
   "metadata": {},
   "outputs": [],
   "source": [
    "to find the Confidence of proportion\n",
    "CI = p ± z*(sqrt(p*(1-p)/n))\n",
    "where \n",
    "n = 500\n",
    "p = 0.65\n",
    "ci = 95%\n",
    "z = 1.96(for 95% confidence level) \n",
    "now after putting all the values \n",
    "CI = 0.65 +- 1.96*(sqrt(0.65*(1-0.65)/500))\n",
    "=> 0.65 +- 1.96(0.02133)\n",
    "=> 0.65 +-0.0418\n",
    "\n",
    "(0.6082,0.6918)\n",
    "\n",
    "so 60.82% to 69.18% proportion of people are satisfied with their job\n"
   ]
  },
  {
   "cell_type": "markdown",
   "id": "bc331ce4",
   "metadata": {},
   "source": [
    "Q12. A researcher is testing the effectiveness of two different teaching methods on student performance.\n",
    "Sample A has a mean score of 85 with a standard deviation of 6, while sample B has a mean score of 82\n",
    "with a standard deviation of 5. Conduct a hypothesis test to determine if the two teaching methods have a\n",
    "significant difference in student performance using a t-test with a significance level of 0.01.\n"
   ]
  },
  {
   "cell_type": "code",
   "execution_count": 5,
   "id": "70fd2d3e",
   "metadata": {},
   "outputs": [],
   "source": [
    "Teaching Sample A \n",
    "x1 = 85\n",
    "std, s1 = 6\n",
    "Sample B \n",
    "x2 = 82 \n",
    "std, s2 = 5\n",
    "significance level = 0.01\n",
    "\n",
    "null hypo = both Teaching have same significance\n",
    "alternate hypo = both have different significance level \n",
    "\n",
    "now calculate the test statistics\n",
    "t = (x1 - x2) / sqrt((s1^2 / n1) + (s2^2 / n2))\n",
    "now putting values (sample size is unkown soo take n1=n2=30)\n",
    "t = (85-82) / sqrt((6^2/30)+(5^2/30)\n",
    "    (3) / sqrt((1.2)+(0.83))\n",
    "    3/1.42\n",
    "t = 2.11\n",
    "\n",
    "now find critical value, dof = 30+30-2 = 58 for significance 0.01\n",
    "                   so critical value is +-2.66\n",
    "   \n",
    "our t value falls in critical value so we can't reject our null hypothesis \n",
    "                   "
   ]
  },
  {
   "cell_type": "markdown",
   "id": "dd1b0778",
   "metadata": {},
   "source": [
    "Q13. A population has a mean of 60 and a standard deviation of 8. A sample of 50 observations has a mean\n",
    "of 65. Calculate the 90% confidence interval for the true population mean.\n"
   ]
  },
  {
   "cell_type": "code",
   "execution_count": null,
   "id": "cbd91b1e",
   "metadata": {},
   "outputs": [],
   "source": [
    "miu = 60 \n",
    "standard deviation,s = 8 \n",
    "x = 65 \n",
    "n = 50 \n",
    "confidence level = 90%\n",
    "z= +/-1.645 (for 90% two tail z test)\n",
    "now lets find confidence interval \n",
    "t = x +- t(s/sqrt(n))\n",
    "=> 65 +- 1.645*(8/sqrt(50))\n",
    "=> 65 +- 1.13\n",
    "(63.87, 66.13) ---- confidence interval "
   ]
  },
  {
   "cell_type": "markdown",
   "id": "b04e580b",
   "metadata": {},
   "source": [
    "Q14. In a study of the effects of caffeine on reaction time, a sample of 30 participants had an average\n",
    "reaction time of 0.25 seconds with a standard deviation of 0.05 seconds. Conduct a hypothesis test to\n",
    "determine if the caffeine has a significant effect on reaction time at a 90% confidence level using a t-test."
   ]
  },
  {
   "cell_type": "code",
   "execution_count": null,
   "id": "a49a52fa",
   "metadata": {},
   "outputs": [],
   "source": [
    "First lets create a hypothesis \n",
    "Null Hypothesis: Caffeine have not significant reaction time i.e 0.25 seconds\n",
    "Alternate Hypothesis: Caffeine have significant reaction time\n",
    "    \n",
    "\n",
    "n = 30 \n",
    "mean,x  = 0.25\n",
    "std, s = 0.05\n",
    "confidence level = 90% \n",
    "so lets find t-statistics \n",
    "t = (x-miu)/(s/sqrt(n))\n",
    "miu is caffeine reaction which ideally 0 before any consumption\n",
    "so t-statistics would be \n",
    "\n",
    "t = (0.25-0)/(0.05/sqrt(30))\n",
    "t = 0.25/0.0091\n",
    "t = 27.37\n",
    "\n",
    "now lets find critical value so we compare does our t fall in confidence \n",
    "degree of freedom = n-1 = 29 \n",
    "so significance value = 90% ; 0.1\n",
    "with this info from t-table we knew critical value : 1.6991\n",
    "    \n",
    "So t-value(27.37) is greater than critical value(1.6991), so we can reject the null hypothesis and say Caffeine has significant impact \n",
    "in 0.25 seconds "
   ]
  }
 ],
 "metadata": {
  "kernelspec": {
   "display_name": "Python 3 (ipykernel)",
   "language": "python",
   "name": "python3"
  },
  "language_info": {
   "codemirror_mode": {
    "name": "ipython",
    "version": 3
   },
   "file_extension": ".py",
   "mimetype": "text/x-python",
   "name": "python",
   "nbconvert_exporter": "python",
   "pygments_lexer": "ipython3",
   "version": "3.9.16"
  }
 },
 "nbformat": 4,
 "nbformat_minor": 5
}
