{
 "cells": [
  {
   "cell_type": "markdown",
   "id": "2e690d0a",
   "metadata": {},
   "source": [
    "Q1: What are the Probability Mass Function (PMF) and Probability Density Function (PDF)? Explain with\n",
    "an example.\n"
   ]
  },
  {
   "cell_type": "code",
   "execution_count": null,
   "id": "59431b36",
   "metadata": {},
   "outputs": [],
   "source": [
    "# PMF used for discrete random variables and give probability distribution of random \n",
    "# variables\n",
    "# P(X= x) = probability of random variable X taking value x\n",
    "\n",
    "# ex. No. of heads obtained from Flipping a fair coin three times \n",
    "# PMF can be visualized using a bar graph or pmf plot \n",
    "\n",
    "# PDF used for continous random variables and give the pdf for each possible value of the random variable\n",
    "f(X = x) = probability density of random variable X at the value x\n",
    "\n",
    "# ex. Height of adult humans "
   ]
  },
  {
   "cell_type": "markdown",
   "id": "b19d1fc3",
   "metadata": {},
   "source": [
    "Q2: What is Cumulative Density Function (CDF)? Explain with an example. Why CDF is used?\n"
   ]
  },
  {
   "cell_type": "code",
   "execution_count": null,
   "id": "84584714",
   "metadata": {},
   "outputs": [],
   "source": [
    "# CDF describes the probability that a random variable X takes on a value less than or equal to a certain value x\n",
    "F(X = x) = P(X<=x) = probability that X is less than or equal to x\n",
    "\n",
    "# Example: rolling a die, where X is the random variable\n",
    "Then, Probability of getting 1 = P(X≤ 1 ) = 1 / 6\n",
    "                     getting 2 = P(X≤ 2 ) = 2 / 6\n",
    "                     getting 3 = P(X≤ 3 ) = 3 / 6\n",
    "                     getting 4 = P(X≤ 4 ) = 4 / 6\n",
    "                     getting 5 = P(X≤ 5 ) = 5 / 6\n",
    "                     getting 6 = P(X≤ 6 ) = 6 / 6 = 1\n",
    "\n",
    "so we saw every time probability get added to the previous pdf or probability \n",
    "to gave cdf\n",
    "CDF lies btw 0-1, non - decreasing and continous in nature\n",
    "# use\n",
    "CDF used to determine probability of random variable taking on a certain value or falling \n",
    "within a certain range of values."
   ]
  },
  {
   "cell_type": "markdown",
   "id": "2391bbfa",
   "metadata": {},
   "source": [
    "Q3: What are some examples of situations where the normal distribution might be used as a model?\n",
    "Explain how the parameters of the normal distribution relate to the shape of the distribution.\n"
   ]
  },
  {
   "cell_type": "code",
   "execution_count": null,
   "id": "e719c386",
   "metadata": {},
   "outputs": [],
   "source": [
    "Some examples:\n",
    "Heights & weights of a large population\n",
    "Blood pressure measurements of a group of patients\n",
    "Test scores of a large group of students\n",
    "Time taken to complete a task by a group of workers\n",
    "and so on.....\n",
    "\n",
    "\n",
    "Parameters for normal distribution are mean and std deviation where\n",
    "mean represent center of distribution nd peak of curvewhile std. determines \n",
    "spread od distribution around mean "
   ]
  },
  {
   "cell_type": "markdown",
   "id": "d634e9f9",
   "metadata": {},
   "source": [
    "Q4: Explain the importance of Normal Distribution. Give a few real-life examples of Normal\n",
    "Distribution.\n"
   ]
  },
  {
   "cell_type": "code",
   "execution_count": null,
   "id": "cb8c7653",
   "metadata": {},
   "outputs": [],
   "source": [
    "Its is very much important in statistics because: \n",
    "    - widely observed in nature & properties make it easy to work \n",
    "    - Central limit theorem \n",
    "    - empirical rule allows interpretation & summarisation of data\n",
    "    - allows prediction of outcomes based on data"
   ]
  },
  {
   "cell_type": "markdown",
   "id": "35eff735",
   "metadata": {},
   "source": [
    "Q5: What is Bernaulli Distribution? Give an Example. What is the difference between Bernoulli\n",
    "Distribution and Binomial Distribution?\n"
   ]
  },
  {
   "cell_type": "code",
   "execution_count": null,
   "id": "b95cc601",
   "metadata": {},
   "outputs": [],
   "source": [
    "It is a discrete probability distribution that states single binary events can take have only \n",
    "two possible outcomes 'success' or 'failure'\n",
    "\n",
    "ex. : flipping a fair coin\n",
    "\n",
    "Major d/f btw bernoulli nd Binomial is Binomial distribution is sum of independent and identically distributed \n",
    "Bernoulli random variables \n",
    "ex. flipping a fair coin once is Bernoulli distribution\n",
    "Flipping a fair coin 10 times is Binomial Distribution"
   ]
  },
  {
   "cell_type": "markdown",
   "id": "4194363f",
   "metadata": {},
   "source": [
    "Q6. Consider a dataset with a mean of 50 and a standard deviation of 10. If we assume that the dataset\n",
    "is normally distributed, what is the probability that a randomly selected observation will be greater\n",
    "than 60? Use the appropriate formula and show your calculations.\n"
   ]
  },
  {
   "cell_type": "code",
   "execution_count": null,
   "id": "c74e63f8",
   "metadata": {},
   "outputs": [],
   "source": [
    "so this can be calculated using Z score \n",
    "z= (x - mu)/sigma\n",
    "x = 60, mu = 50 , sigma = 10 \n",
    "z = (60-50)/10 \n",
    "z = 1 \n",
    "and when we look at value of +1 in Z - table then we got value 0.84134 \n",
    "so to get probability of getting greater than 60 is \n",
    "1-0.84134 \n",
    "approximately 0.1587\n",
    "\n",
    "Probability of getting greater than 60 is 0.1587"
   ]
  },
  {
   "cell_type": "markdown",
   "id": "eae4fcef",
   "metadata": {},
   "source": [
    "Q7: Explain uniform Distribution with an example.\n"
   ]
  },
  {
   "cell_type": "code",
   "execution_count": null,
   "id": "d2de01c1",
   "metadata": {},
   "outputs": [],
   "source": [
    "Uniform distribution is continous that describes likelihood of an outcome occuring within a given \n",
    "range where each outcomes within the range has equal change of occuring \n",
    "\n",
    "example rolling a dice gave uniform probability i.e 1/6 for each 1 to 6 \n",
    "so gave flat line over range 1 to 6 on bar plot"
   ]
  },
  {
   "cell_type": "markdown",
   "id": "3082ef7d",
   "metadata": {},
   "source": [
    "Q8: What is the z score? State the importance of the z score.\n"
   ]
  },
  {
   "cell_type": "code",
   "execution_count": null,
   "id": "ec9228ed",
   "metadata": {},
   "outputs": [],
   "source": [
    "It describes how many standard deviation a data point is from the mean \n",
    "formula : \n",
    "    z = (x-mu)/sigma\n",
    "    where z = z-score, x is data point, mu is mean and sigma is standard deviation\n",
    "    \n",
    "    Importance: \n",
    "        ability to standardize & compare d/f distribution\n",
    "        +ve z-score indicates data point is above mean \n",
    "        -ve suggest data point below mean\n",
    "        if z-score greater than 3 considered to be outlier"
   ]
  },
  {
   "cell_type": "markdown",
   "id": "2f1f01a4",
   "metadata": {},
   "source": [
    "Q9: What is Central Limit Theorem? State the significance of the Central Limit Theorem.\n"
   ]
  },
  {
   "cell_type": "code",
   "execution_count": null,
   "id": "e2519432",
   "metadata": {},
   "outputs": [],
   "source": [
    "Central Limit Theorem allows us to perform tests, solve problems and make inference\n",
    "using the normal distribution even when the population is not normally distribution\n",
    "no matter our sample distribution is of what type but it convert it to normal distribution \n",
    "whose mean equivalent to population mean \n",
    "\n",
    "- significance : \n",
    "    It allows us to use the normal distribution to make inferences about population parameters, such as the population mean or proportion,\n",
    "        even when the underlying population distribution is not normal.\n",
    "    It provides a theoretical basis for many statistical techniques, such as hypothesis testing, confidence intervals, and regression analysis.\n",
    "    It allows us to make accurate predictions and estimate the likelihood of rare events\n",
    "    It helps us understand the behavior of many natural and physical processes that involve random variables, such as weather patterns or stock prices.\n"
   ]
  },
  {
   "cell_type": "markdown",
   "id": "49a057a6",
   "metadata": {},
   "source": [
    "Q10: State the assumptions of the Central Limit Theorem."
   ]
  },
  {
   "cell_type": "code",
   "execution_count": null,
   "id": "280f9a9c",
   "metadata": {},
   "outputs": [],
   "source": [
    "Assumptions:\n",
    "    - Sample Size Must be greater than equal to 30 of sample mean\n",
    "    - Observation must of independent, no influence on any other observation\n",
    "    - Random sampling to be observed\n",
    "    - Population variance must of finite"
   ]
  }
 ],
 "metadata": {
  "kernelspec": {
   "display_name": "Python 3 (ipykernel)",
   "language": "python",
   "name": "python3"
  },
  "language_info": {
   "codemirror_mode": {
    "name": "ipython",
    "version": 3
   },
   "file_extension": ".py",
   "mimetype": "text/x-python",
   "name": "python",
   "nbconvert_exporter": "python",
   "pygments_lexer": "ipython3",
   "version": "3.9.16"
  }
 },
 "nbformat": 4,
 "nbformat_minor": 5
}
