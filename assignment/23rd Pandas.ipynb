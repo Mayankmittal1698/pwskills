{
 "cells": [
  {
   "cell_type": "markdown",
   "id": "0aeb751a",
   "metadata": {},
   "source": [
    "Q1. Create a Pandas Series that contains the following data: 4, 8, 15, 16, 23, and 42. Then, print the series.\n"
   ]
  },
  {
   "cell_type": "code",
   "execution_count": 6,
   "id": "21533d66",
   "metadata": {},
   "outputs": [],
   "source": [
    "import pandas as pd\n",
    "\n",
    "s = pd.Series([4,8,15,16,23,42],index = ['a','b','c','d','e','f'])"
   ]
  },
  {
   "cell_type": "code",
   "execution_count": 7,
   "id": "ea7cc0c6",
   "metadata": {},
   "outputs": [
    {
     "name": "stdout",
     "output_type": "stream",
     "text": [
      "a     4\n",
      "b     8\n",
      "c    15\n",
      "d    16\n",
      "e    23\n",
      "f    42\n",
      "dtype: int64\n"
     ]
    }
   ],
   "source": [
    "print(s)"
   ]
  },
  {
   "cell_type": "markdown",
   "id": "7337a396",
   "metadata": {},
   "source": [
    "Q2. Create a variable of list type containing 10 elements in it, and apply pandas.Series function on the\n",
    "variable print it.\n"
   ]
  },
  {
   "cell_type": "code",
   "execution_count": 11,
   "id": "b11a0144",
   "metadata": {},
   "outputs": [],
   "source": [
    "var = [1,3,45,63,233,33,34,2,5,2]\n",
    "# len(var)\n",
    "var_series = pd.Series(var)"
   ]
  },
  {
   "cell_type": "code",
   "execution_count": 12,
   "id": "214e4f77",
   "metadata": {},
   "outputs": [
    {
     "data": {
      "text/plain": [
       "0      1\n",
       "1      3\n",
       "2     45\n",
       "3     63\n",
       "4    233\n",
       "5     33\n",
       "6     34\n",
       "7      2\n",
       "8      5\n",
       "9      2\n",
       "dtype: int64"
      ]
     },
     "execution_count": 12,
     "metadata": {},
     "output_type": "execute_result"
    }
   ],
   "source": [
    "var_series"
   ]
  },
  {
   "cell_type": "markdown",
   "id": "9a720e6f",
   "metadata": {},
   "source": [
    "Q3. Create a Pandas DataFrame that contains the following data:\n",
    "\n",
    "\n",
    "| Name   |Age   | Gender |\n",
    "|--------|:----:|-------:|\n",
    "| Alice  |25    | Female |\n",
    "| Bob    |30    | Male   |\n",
    "| Claire |27    | Female |\n",
    "\n",
    "Then, print the DataFrame."
   ]
  },
  {
   "cell_type": "code",
   "execution_count": 24,
   "id": "6cec96ab",
   "metadata": {},
   "outputs": [
    {
     "data": {
      "text/html": [
       "<div>\n",
       "<style scoped>\n",
       "    .dataframe tbody tr th:only-of-type {\n",
       "        vertical-align: middle;\n",
       "    }\n",
       "\n",
       "    .dataframe tbody tr th {\n",
       "        vertical-align: top;\n",
       "    }\n",
       "\n",
       "    .dataframe thead th {\n",
       "        text-align: right;\n",
       "    }\n",
       "</style>\n",
       "<table border=\"1\" class=\"dataframe\">\n",
       "  <thead>\n",
       "    <tr style=\"text-align: right;\">\n",
       "      <th></th>\n",
       "      <th>0</th>\n",
       "      <th>1</th>\n",
       "      <th>2</th>\n",
       "    </tr>\n",
       "  </thead>\n",
       "  <tbody>\n",
       "    <tr>\n",
       "      <th>0</th>\n",
       "      <td>Name</td>\n",
       "      <td>Age</td>\n",
       "      <td>Gender</td>\n",
       "    </tr>\n",
       "    <tr>\n",
       "      <th>1</th>\n",
       "      <td>Alice</td>\n",
       "      <td>25</td>\n",
       "      <td>Female</td>\n",
       "    </tr>\n",
       "    <tr>\n",
       "      <th>2</th>\n",
       "      <td>Bob</td>\n",
       "      <td>30</td>\n",
       "      <td>Male</td>\n",
       "    </tr>\n",
       "    <tr>\n",
       "      <th>3</th>\n",
       "      <td>Claire</td>\n",
       "      <td>27</td>\n",
       "      <td>Female</td>\n",
       "    </tr>\n",
       "  </tbody>\n",
       "</table>\n",
       "</div>"
      ],
      "text/plain": [
       "        0    1       2\n",
       "0    Name  Age  Gender\n",
       "1   Alice   25  Female\n",
       "2     Bob   30    Male\n",
       "3  Claire   27  Female"
      ]
     },
     "execution_count": 24,
     "metadata": {},
     "output_type": "execute_result"
    }
   ],
   "source": [
    "data = [[\"Name\",\"Age\",\"Gender\"],['Alice',25,'Female'],['Bob',30,'Male'],['Claire',27,'Female']]\n",
    "df = pd.DataFrame(data)\n",
    "df"
   ]
  },
  {
   "cell_type": "code",
   "execution_count": 25,
   "id": "09eee6d9",
   "metadata": {},
   "outputs": [
    {
     "data": {
      "text/plain": [
       "0    object\n",
       "1    object\n",
       "2    object\n",
       "dtype: object"
      ]
     },
     "execution_count": 25,
     "metadata": {},
     "output_type": "execute_result"
    }
   ],
   "source": [
    "df.dtypes"
   ]
  },
  {
   "cell_type": "markdown",
   "id": "a406d478",
   "metadata": {},
   "source": [
    "Q4. What is ‘DataFrame’ in pandas and how is it different from pandas.series? Explain with an example.\n"
   ]
  },
  {
   "cell_type": "code",
   "execution_count": null,
   "id": "4a737380",
   "metadata": {},
   "outputs": [],
   "source": [
    "\"\"\"\n",
    "pandas.Series is a one dimensional array where as pandas.DataFrame is a Two dimensional array \n",
    "Series is a set of observation related to a single variable in series Data consistency is followed ie. in each column of series \n",
    "object have only one single type of value stored in it \n",
    "\n",
    "and DataFrame is a collection of series object containing Rows and Columns \n",
    "DataFrame too obeys Data consistency but limited to column ie. same type of value in columns not throught out the DataFrame or array \n",
    "\"\"\"\n",
    "\n",
    "# Series type showcased in Question 1 & 2 while DataFrame shown in Question 3 \n",
    "# in que 3 each column preserve the type "
   ]
  },
  {
   "cell_type": "markdown",
   "id": "8203adb4",
   "metadata": {},
   "source": [
    "Q5. What are some common functions you can use to manipulate data in a Pandas DataFrame? Can\n",
    "you give an example of when you might use one of these functions?\n"
   ]
  },
  {
   "cell_type": "code",
   "execution_count": null,
   "id": "42203d51",
   "metadata": {},
   "outputs": [],
   "source": [
    "# Common Functions in pandas \n",
    "#Read - to read files like html, csv, excel and many more like such (sytnax df.read('link/location/name of file'))\n",
    "#head() - display top 5 rows from Datasets (if args pass then that much rows will be displayed)\n",
    "#shape - shows dimensions of our dataframe\n",
    "#info() - display various info about our data like colmn name , its type, no. of non null values \n",
    "#to_datetime() - DateTime obj in file read as string while reading csv file soo this use to again change back to datatime obj\n",
    "#isnull()/sum() - through this we can find no. of null values in df\n",
    "# drop() -used to drop any particular column {syntax: df.drop(['country_name'],axis = 1 , inplace =True)\n",
    "#describe() - to get particular info about like count, mean, standard deviation, min, and 25,50,75,max values \n",
    "#fillna() - if values passed in arguments to any missing or null value present in df\n",
    "# df['country_name'].fillna('Nan')\n",
    "# and soo many other functions are there to manipulate data \n",
    "\n",
    "#loc and iloc() is highly used to slice data from panda df \n",
    "\n",
    "# loc - select by labels : df.loc[:5,['driver_age','voilation']] this gave first first 6 rows for driver_age and voilation data \n",
    "# iloc - select by positions. this slice the df in specified rows and columns range\n",
    "# df.iloc(:5,:5) first 5 rows and first 5 columns\n",
    "\n",
    "#iloc arguments are purely integer based whereas loc args could be int or conditions "
   ]
  },
  {
   "cell_type": "markdown",
   "id": "7fd8713d",
   "metadata": {},
   "source": [
    "Q6. Which of the following is mutable in nature Series, DataFrame, Panel?\n"
   ]
  },
  {
   "cell_type": "code",
   "execution_count": null,
   "id": "f06dbc18",
   "metadata": {},
   "outputs": [],
   "source": [
    "# All three data structure - Series, DataFrame and Panel are mutable in nature. This means that their values can be changed \n",
    "# after they have been created. However while Df and Panels are both size mutable ie. their size can be changed but Series\n",
    "# is only value mutalbe means its size can't be changed\n"
   ]
  },
  {
   "cell_type": "markdown",
   "id": "02e7d646",
   "metadata": {},
   "source": [
    "Q7. Create a DataFrame using multiple Series. Explain with an example."
   ]
  },
  {
   "cell_type": "code",
   "execution_count": 40,
   "id": "060f6d89",
   "metadata": {},
   "outputs": [
    {
     "data": {
      "text/html": [
       "<div>\n",
       "<style scoped>\n",
       "    .dataframe tbody tr th:only-of-type {\n",
       "        vertical-align: middle;\n",
       "    }\n",
       "\n",
       "    .dataframe tbody tr th {\n",
       "        vertical-align: top;\n",
       "    }\n",
       "\n",
       "    .dataframe thead th {\n",
       "        text-align: right;\n",
       "    }\n",
       "</style>\n",
       "<table border=\"1\" class=\"dataframe\">\n",
       "  <thead>\n",
       "    <tr style=\"text-align: right;\">\n",
       "      <th></th>\n",
       "      <th>writer</th>\n",
       "      <th>title</th>\n",
       "      <th>price</th>\n",
       "    </tr>\n",
       "  </thead>\n",
       "  <tbody>\n",
       "    <tr>\n",
       "      <th>0</th>\n",
       "      <td>mark</td>\n",
       "      <td>cookbook</td>\n",
       "      <td>2453.0</td>\n",
       "    </tr>\n",
       "    <tr>\n",
       "      <th>1</th>\n",
       "      <td>barket</td>\n",
       "      <td>html5</td>\n",
       "      <td>460.5</td>\n",
       "    </tr>\n",
       "    <tr>\n",
       "      <th>2</th>\n",
       "      <td>tom</td>\n",
       "      <td>python</td>\n",
       "      <td>12.5</td>\n",
       "    </tr>\n",
       "    <tr>\n",
       "      <th>3</th>\n",
       "      <td>job</td>\n",
       "      <td>numpy</td>\n",
       "      <td>50.0</td>\n",
       "    </tr>\n",
       "  </tbody>\n",
       "</table>\n",
       "</div>"
      ],
      "text/plain": [
       "   writer     title   price\n",
       "0    mark  cookbook  2453.0\n",
       "1  barket     html5   460.5\n",
       "2     tom    python    12.5\n",
       "3     job     numpy    50.0"
      ]
     },
     "execution_count": 40,
     "metadata": {},
     "output_type": "execute_result"
    }
   ],
   "source": [
    "import pandas as pd\n",
    "s1 = pd.Series(['mark','barket','tom','job'],name='writer')\n",
    "s2 = pd.Series(['cookbook','html5','python','numpy'],name = 'title')\n",
    "s3 = pd.Series([2453,460.50,12.50,50.00],name = 'price',)\n",
    "\n",
    "df = pd.concat([s1,s2,s3],axis = 1)\n",
    "df"
   ]
  },
  {
   "cell_type": "code",
   "execution_count": 38,
   "id": "865c5b7a",
   "metadata": {},
   "outputs": [
    {
     "data": {
      "text/plain": [
       "pandas.core.frame.DataFrame"
      ]
     },
     "execution_count": 38,
     "metadata": {},
     "output_type": "execute_result"
    }
   ],
   "source": [
    "type(df)"
   ]
  }
 ],
 "metadata": {
  "kernelspec": {
   "display_name": "Python 3 (ipykernel)",
   "language": "python",
   "name": "python3"
  },
  "language_info": {
   "codemirror_mode": {
    "name": "ipython",
    "version": 3
   },
   "file_extension": ".py",
   "mimetype": "text/x-python",
   "name": "python",
   "nbconvert_exporter": "python",
   "pygments_lexer": "ipython3",
   "version": "3.9.16"
  }
 },
 "nbformat": 4,
 "nbformat_minor": 5
}
