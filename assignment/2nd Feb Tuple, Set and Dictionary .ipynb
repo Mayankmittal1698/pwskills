{
 "cells": [
  {
   "cell_type": "markdown",
   "id": "93424ba8",
   "metadata": {},
   "source": [
    "#### Que1 What are the characterisitcs of the tuples? is tuple Immutable?\n"
   ]
  },
  {
   "cell_type": "code",
   "execution_count": null,
   "id": "30046618",
   "metadata": {},
   "outputs": [],
   "source": [
    "\"\"\"\n",
    "Tuples are collection of elements from data type eg. int,string,tuple,bool\n",
    "syntax tup()\n",
    "Indexed element\n",
    "Duplicacy Allowed as elements are indexed\n",
    "hashing not allowed so list, set,dictionary type elements are not allowed \n",
    "Immutable as we can't change tuple's element\n",
    "\"\"\""
   ]
  },
  {
   "cell_type": "markdown",
   "id": "d2ec9a17",
   "metadata": {},
   "source": [
    "#### Que2 what are the two tuple method in python?Give an example of each method\n",
    "#### Give a reason why tuples have only two in-built methods as compared to lists.\n"
   ]
  },
  {
   "cell_type": "code",
   "execution_count": 4,
   "id": "d7833cde",
   "metadata": {},
   "outputs": [
    {
     "data": {
      "text/plain": [
       "2"
      ]
     },
     "execution_count": 4,
     "metadata": {},
     "output_type": "execute_result"
    }
   ],
   "source": [
    "# Two methods of Tuple are \\n count and \\n index\n",
    "tup = (1,4,5,6,23.2,'str',True,(1,2,4,5))\n",
    "#count\n",
    "tup.count(1) # this count how many times 1 appear in tuple \n",
    "# return 2 as True also counted as 1 \n",
    "#index\n",
    "tup.index(5) #this will gave the position/index of element 5 in our tuple\n",
    "\n",
    "#Tuple once created/defined can't be changed i.e its element or value can't be altered or manipulated \n",
    "# so most of list and other methods doesn't apply like if copy operation give in list to make copy as simple (lis= lis2) \n",
    "# method can make changes in both list if applies to any but this not applies to tuple similarly append pop will not work as\n",
    "# tuple can and its elements can be altered once defined"
   ]
  },
  {
   "cell_type": "markdown",
   "id": "99675517",
   "metadata": {},
   "source": [
    "#### Que3 which collection datetypes in python do not allow duplicate items? \n",
    "#### Write a code using a set to remove duplicates from the give list.\n",
    "List = [1,1,1,2,1,3,1,4,2,1,2,2,2,3,2,4,3,1,3,2,3,3,3,4,4,1,4,2,4,3,4,4]\n"
   ]
  },
  {
   "cell_type": "code",
   "execution_count": 8,
   "id": "b7885089",
   "metadata": {},
   "outputs": [
    {
     "data": {
      "text/plain": [
       "{1, 2, 3, 4}"
      ]
     },
     "execution_count": 8,
     "metadata": {},
     "output_type": "execute_result"
    }
   ],
   "source": [
    "# set collection datatype doesn't allows duplicacy \n",
    "List = [1,1,1,2,1,3,1,4,2,1,2,2,2,3,2,4,3,1,3,2,3,3,3,4,4,1,4,2,4,3,4,4]\n",
    "# typecasting list to set will eliminate duplicate element on its own \n",
    "st = set(List)\n",
    "st"
   ]
  },
  {
   "cell_type": "markdown",
   "id": "932a2f44",
   "metadata": {},
   "source": [
    "#### Que4 Explain the difference btw the union() and update() methods for a set. Give an example of each method."
   ]
  },
  {
   "cell_type": "code",
   "execution_count": 14,
   "id": "feb4de25",
   "metadata": {},
   "outputs": [
    {
     "name": "stdout",
     "output_type": "stream",
     "text": [
      "{1, 2, 3, 4, 5, 6}\n",
      "{1, 2, 5, 6}\n",
      "None\n",
      "{1, 2, 3, 4, 5, 6}\n"
     ]
    }
   ],
   "source": [
    "st1 = {2,5,1,6,2,}\n",
    "#both union and update method showcase same result but union will not affect set data\n",
    "#but update actually update data by updating and adding unavailable data\n",
    "print(st1.union(st))\n",
    "print(st1) #here st1 back to its previous elements mean union doesn't affect set data\n",
    "print(st1.update(st))\n",
    "print(st1) # here st1 updated with new elements means update did affect our set data"
   ]
  },
  {
   "cell_type": "markdown",
   "id": "0a9097f9",
   "metadata": {},
   "source": [
    "#### Que5 what is dictionary? give an example. Also, state whether a dictionary is ordered or unordered. "
   ]
  },
  {
   "cell_type": "code",
   "execution_count": 16,
   "id": "abfe8ffb",
   "metadata": {},
   "outputs": [
    {
     "data": {
      "text/plain": [
       "{'name': 'John', 'age': 30, 'country': 'UK'}"
      ]
     },
     "execution_count": 16,
     "metadata": {},
     "output_type": "execute_result"
    }
   ],
   "source": [
    "# Dictionary in python are unordered collection of items.\n",
    "# each item of dictionary has a key and value pair\n",
    "# key must be unique through out the dictionary \n",
    "# dictionary in python are mutable means both keys and elements allowed to change or alter\n",
    "# key can of integer, string, tuple (list,dic,set not allowed)\n",
    "# dictionary initialized by curly braces -  {}\n",
    "\n",
    "dic = {\"name\":\"John\",\"age\":30,\"country\":\"UK\"}\n",
    "dic"
   ]
  },
  {
   "cell_type": "markdown",
   "id": "45ff3bfe",
   "metadata": {},
   "source": [
    "\n",
    "#### Que6 can we create a nested dictionay?If so, please give an example by creating a simple one-level nested dictionary."
   ]
  },
  {
   "cell_type": "code",
   "execution_count": 18,
   "id": "40f65504",
   "metadata": {},
   "outputs": [
    {
     "data": {
      "text/plain": [
       "{'name': 'Willy',\n",
       " 'age': 20,\n",
       " 'country': 'Israil',\n",
       " 'Qualification': {'High-School': 'J.K International School',\n",
       "  'Grad': 'Harvard University'}}"
      ]
     },
     "execution_count": 18,
     "metadata": {},
     "output_type": "execute_result"
    }
   ],
   "source": [
    "# Yes we can create a nested dictionary. We can add nested dic in values place\n",
    "dic1 = {'name':'Willy','age':20,'country':\"Israil\",'Qualification':\n",
    "        {'High-School':\"J.K International School\",\"Grad\":\"Harvard University\"}} #nested part\n",
    "dic1"
   ]
  },
  {
   "cell_type": "markdown",
   "id": "08f0da5c",
   "metadata": {},
   "source": [
    "\n",
    "#### Que7 using setdefault() method, create key named topics in the give dictionary and also add the value of the key as this list\n",
    "\n",
    "#### ['Python','Machine Learning','Deep Learning']\n",
    "dict1 = {'language':'Python','course':'Data Science Masters'}"
   ]
  },
  {
   "cell_type": "code",
   "execution_count": 22,
   "id": "05558c58",
   "metadata": {},
   "outputs": [
    {
     "data": {
      "text/plain": [
       "{'language': 'Python',\n",
       " 'course': 'Data Science Masters',\n",
       " 'topics': 'Deep Learning'}"
      ]
     },
     "execution_count": 22,
     "metadata": {},
     "output_type": "execute_result"
    }
   ],
   "source": [
    "dic2 =  {'language':'Python','course':'Data Science Masters'}\n",
    "dic2.setdefault(\"topics\",'Deep Learning')\n",
    "dic2"
   ]
  },
  {
   "cell_type": "markdown",
   "id": "b1a3dd11",
   "metadata": {},
   "source": [
    "#### Que8 what are the three view objects in dictionaries? Use the three in-built\n",
    "#### methods in python to display these three view objects for the give dictionary. \n",
    "dict1= {'Sport':'Cricket', 'Teams':['India','Australia','England','South Africa','Sri Lanka','New Zealand']}"
   ]
  },
  {
   "cell_type": "code",
   "execution_count": 25,
   "id": "90fe11e0",
   "metadata": {},
   "outputs": [
    {
     "name": "stdout",
     "output_type": "stream",
     "text": [
      "dict_keys(['language', 'course', 'topics'])\n",
      "dict_values(['Python', 'Data Science Masters', 'Deep Learning'])\n",
      "dict_items([('language', 'Python'), ('course', 'Data Science Masters'), ('topics', 'Deep Learning')])\n"
     ]
    }
   ],
   "source": [
    "# Three view object in Dictionary\n",
    "# 1 keys\n",
    "print(dic2.keys()) # return list of all the keys of dictionary object\n",
    "# 2 values\n",
    "print(dic2.values()) # return list of all the values of the dictionary object\n",
    "# 3 items\n",
    "print(dic2.items()) # return list of all the element of dictionary in key-value pairs tuples "
   ]
  }
 ],
 "metadata": {
  "kernelspec": {
   "display_name": "Python 3 (ipykernel)",
   "language": "python",
   "name": "python3"
  },
  "language_info": {
   "codemirror_mode": {
    "name": "ipython",
    "version": 3
   },
   "file_extension": ".py",
   "mimetype": "text/x-python",
   "name": "python",
   "nbconvert_exporter": "python",
   "pygments_lexer": "ipython3",
   "version": "3.9.13"
  }
 },
 "nbformat": 4,
 "nbformat_minor": 5
}
