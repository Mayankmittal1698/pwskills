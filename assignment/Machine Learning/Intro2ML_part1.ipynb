{
 "cells": [
  {
   "cell_type": "markdown",
   "id": "44e89518",
   "metadata": {},
   "source": [
    "Q1- Eplain the following with an example:\n",
    "- Artificial Intelligence\n",
    "- Machine Learning\n",
    "- Deep Learning\n"
   ]
  },
  {
   "cell_type": "markdown",
   "id": "71be6c46",
   "metadata": {},
   "source": [
    "- Artificial Intelligence: Branch of computer science which used to design machine that could perform like human or even better without any human interaction. \n",
    "eg: self driving cars, making prediction from past experience \n",
    "\n",
    "- Machine Learning: ML is a subpart of AI which used to make prediction from the past data in this we give computers the ability to learn without being explicitly programmed \n",
    "eg: sentiment analysis, Weather prediction\n",
    "\n",
    "- Deep Learning : DL is a branch of ML which used to mimic human brain based on Artificial Neural network which behaves like neural cells\n",
    "eg: Image recognition, object detection, anamoly detection "
   ]
  },
  {
   "cell_type": "markdown",
   "id": "9f7ae6fa",
   "metadata": {},
   "source": [
    "Q2- What is supervised learning List some examples of supervised learning.\n"
   ]
  },
  {
   "cell_type": "markdown",
   "id": "19123ed3",
   "metadata": {},
   "source": [
    "In Supervised learning, the training we feed to the algorithm includes the solution or output we desired called labels\n",
    "eg: spam filters, housing price, estimated arrival time\n",
    "<b>Supervised Learning</b> done by two ways:\n",
    "- Classification : for categorical data where labels are limited \n",
    "                eg. email spam filtering \n",
    "- Regreesion: for continous data, for predicting values \n",
    "                eg. predicting price of car"
   ]
  },
  {
   "cell_type": "markdown",
   "id": "5ef40a5a",
   "metadata": {},
   "source": [
    "Q3- What is unsupervised learning? List some examples of unsupervised learning.\n"
   ]
  },
  {
   "cell_type": "markdown",
   "id": "62a7f204",
   "metadata": {},
   "source": [
    "In <b><i>unsupervised learning</i></b>, training data is unlabelled. learning without any teacher\n",
    "eg. book shop visitors, grping them will help us to cater them according to their taste like if more children visiting then more comics, animies CDs and if college students are more visitors then notes, respective books and reading books preferablly showcased more \n",
    "\n",
    "there are different ways to do this \n",
    "- clustering algo\n",
    "- Dimensionality reduction\n",
    "- anomaly detection \n",
    "- novelty detection\n",
    "- visualization algo "
   ]
  },
  {
   "cell_type": "markdown",
   "id": "745fcac6",
   "metadata": {},
   "source": [
    "Q4- What is the difference between AI, ML, DL, and DS?\n"
   ]
  },
  {
   "cell_type": "markdown",
   "id": "9f8899dc",
   "metadata": {},
   "source": [
    "- AI: are smart application that performs on its own without human interaction \n",
    "- ML: Branch of AI which used to make prediction, build models like forcasting, fraud detection\n",
    "- DL: Branch of ML which design to work like Human brain, Artificial neural network for object & image detection\n",
    "- DS: DataScience is a field which work on all AI, ML, DL to build model so they make predictions, detection, visualize the outcomes, knowing mathematical, probability, databases, visualization tools like tableau, Power BI, \n",
    "\n",
    "\n",
    "GPT4 is perfect example as it can image recognition by scanning images, analyzing data from it, making decision from the trillions of parameters it have, visualize them to us in text, or graphs "
   ]
  },
  {
   "cell_type": "markdown",
   "id": "b1e92812",
   "metadata": {},
   "source": [
    "Q5- What are the main differences between suprevised, unsupervised, and semi-supervised learning?\n"
   ]
  },
  {
   "cell_type": "markdown",
   "id": "1b68bd0d",
   "metadata": {},
   "source": [
    "In Supervised learning we know the output(labels) so we train our model to make predictions according to train data \n",
    "in unsupervised learning we don't have know the outputs(labels), data is unlabelled, so in this we may divide the data in grps/ clusters, like we know the interest of our customers so we recommend accordingly\n",
    "\n",
    "In Semi-supervised learning, first we perform unsupervised learning task and output of this is sent for supervised learning \n",
    "this is time consuming & costly procedure as we perform both learning\n",
    "eg: face recognition & clustering(unsupervised) in the Google Photos later we can name the person(supervised)now all added photos will be added to that person named album "
   ]
  },
  {
   "cell_type": "markdown",
   "id": "96604691",
   "metadata": {},
   "source": [
    "Q6- What is train, test and validation split? Explain the importance of each term.\n"
   ]
  },
  {
   "cell_type": "markdown",
   "id": "1a94c9e8",
   "metadata": {},
   "source": [
    "- Train: we build our model and feed initial data to train it\n",
    "- Validation split: it gave unbiased model evaluation to prevent overfitting to training data\n",
    "- Test: completely unknown data to our model is feed to test its result and performance on that data"
   ]
  },
  {
   "cell_type": "markdown",
   "id": "025a8419",
   "metadata": {},
   "source": [
    "Q7- How can unsupervised learning be used in anomaly detection?\n"
   ]
  },
  {
   "cell_type": "markdown",
   "id": "0fc3f500",
   "metadata": {},
   "source": [
    "- <b>Anomaly detection</b>: Our model is feeded mostly normally instance during training so it learn to recognize them when a new instance came it check and tell whether it looks like normal instance or having some abnormally \n",
    "\n",
    "This Unsupervised learning mostly used in Unusal Credit card transaction detection, catching manufacturing defects & removing outliers automatically "
   ]
  },
  {
   "cell_type": "markdown",
   "id": "81d681b1",
   "metadata": {},
   "source": [
    "Q8- List down some commonly used supervised learning algorithms and unsupervised learning\n",
    "algorithms."
   ]
  },
  {
   "cell_type": "markdown",
   "id": "f0858b03",
   "metadata": {},
   "source": [
    "<b>Commonly used Supervised learning Algo</b>\n",
    "- Linear Regression \n",
    "- Logistic Regression \n",
    "- Random Forest\n",
    "- Support Vector Machines\n",
    "- K-Nearest Neighbors\n",
    "\n",
    "<b>Commonly used Unsupervised Learning algo</b>\n",
    "- K-means clustering\n",
    "- k-medoids clustering \n",
    "- apriori algo \n",
    "- Hierarchical clustering\n",
    "- Principal Component Analysis"
   ]
  }
 ],
 "metadata": {
  "kernelspec": {
   "display_name": "Python 3 (ipykernel)",
   "language": "python",
   "name": "python3"
  },
  "language_info": {
   "codemirror_mode": {
    "name": "ipython",
    "version": 3
   },
   "file_extension": ".py",
   "mimetype": "text/x-python",
   "name": "python",
   "nbconvert_exporter": "python",
   "pygments_lexer": "ipython3",
   "version": "3.9.16"
  }
 },
 "nbformat": 4,
 "nbformat_minor": 5
}
