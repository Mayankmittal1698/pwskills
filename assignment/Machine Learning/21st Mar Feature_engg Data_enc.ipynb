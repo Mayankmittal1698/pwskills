{
 "cells": [
  {
   "cell_type": "markdown",
   "id": "209aefa9",
   "metadata": {},
   "source": [
    "### Q1. What is the difference between Ordinal Encoding and Label Encoding? Provide an example of when you might choose one over the other.\n"
   ]
  },
  {
   "cell_type": "markdown",
   "id": "1445dafb",
   "metadata": {},
   "source": [
    "Label & Ordinal Encoding works almost same but have some difference such as \n",
    " - Label can only applies to targeted variable i.e one column at once but Ordinal can be applied to 1 or more columns at once\n",
    " - In Ordinal we can specify the order in which our categorical variable labels \n",
    " \n",
    "Example: if we have multiple features in our dataset which needs encoding then we can go with Ordinal or we wanna categorize there order in which they labelled else we go with Label encoding "
   ]
  },
  {
   "cell_type": "markdown",
   "id": "5ff01ce1",
   "metadata": {},
   "source": [
    "### Q2. Explain how Target Guided Ordinal Encoding works and provide an example of when you might use it in a machine learning project.\n"
   ]
  },
  {
   "cell_type": "markdown",
   "id": "32af97c5",
   "metadata": {},
   "source": [
    "<b>Target Guided Ordinal Encoding</b> based on relationship with target variables, used when we have lots of unique categories in feature.\n",
    "In this we replace our categorical data with the mean or median of the target variable which makes our prediction more accurate"
   ]
  },
  {
   "cell_type": "code",
   "execution_count": 14,
   "id": "76b92b25",
   "metadata": {},
   "outputs": [
    {
     "data": {
      "text/html": [
       "<div>\n",
       "<style scoped>\n",
       "    .dataframe tbody tr th:only-of-type {\n",
       "        vertical-align: middle;\n",
       "    }\n",
       "\n",
       "    .dataframe tbody tr th {\n",
       "        vertical-align: top;\n",
       "    }\n",
       "\n",
       "    .dataframe thead th {\n",
       "        text-align: right;\n",
       "    }\n",
       "</style>\n",
       "<table border=\"1\" class=\"dataframe\">\n",
       "  <thead>\n",
       "    <tr style=\"text-align: right;\">\n",
       "      <th></th>\n",
       "      <th>total_bill</th>\n",
       "      <th>tip</th>\n",
       "      <th>sex</th>\n",
       "      <th>smoker</th>\n",
       "      <th>day</th>\n",
       "      <th>size</th>\n",
       "      <th>time_encoded</th>\n",
       "    </tr>\n",
       "  </thead>\n",
       "  <tbody>\n",
       "    <tr>\n",
       "      <th>0</th>\n",
       "      <td>16.99</td>\n",
       "      <td>1.01</td>\n",
       "      <td>Female</td>\n",
       "      <td>No</td>\n",
       "      <td>Sun</td>\n",
       "      <td>2</td>\n",
       "      <td>20.797</td>\n",
       "    </tr>\n",
       "    <tr>\n",
       "      <th>1</th>\n",
       "      <td>10.34</td>\n",
       "      <td>1.66</td>\n",
       "      <td>Male</td>\n",
       "      <td>No</td>\n",
       "      <td>Sun</td>\n",
       "      <td>3</td>\n",
       "      <td>20.797</td>\n",
       "    </tr>\n",
       "    <tr>\n",
       "      <th>2</th>\n",
       "      <td>21.01</td>\n",
       "      <td>3.50</td>\n",
       "      <td>Male</td>\n",
       "      <td>No</td>\n",
       "      <td>Sun</td>\n",
       "      <td>3</td>\n",
       "      <td>20.797</td>\n",
       "    </tr>\n",
       "    <tr>\n",
       "      <th>3</th>\n",
       "      <td>23.68</td>\n",
       "      <td>3.31</td>\n",
       "      <td>Male</td>\n",
       "      <td>No</td>\n",
       "      <td>Sun</td>\n",
       "      <td>2</td>\n",
       "      <td>20.797</td>\n",
       "    </tr>\n",
       "    <tr>\n",
       "      <th>4</th>\n",
       "      <td>24.59</td>\n",
       "      <td>3.61</td>\n",
       "      <td>Female</td>\n",
       "      <td>No</td>\n",
       "      <td>Sun</td>\n",
       "      <td>4</td>\n",
       "      <td>20.797</td>\n",
       "    </tr>\n",
       "    <tr>\n",
       "      <th>...</th>\n",
       "      <td>...</td>\n",
       "      <td>...</td>\n",
       "      <td>...</td>\n",
       "      <td>...</td>\n",
       "      <td>...</td>\n",
       "      <td>...</td>\n",
       "      <td>...</td>\n",
       "    </tr>\n",
       "    <tr>\n",
       "      <th>239</th>\n",
       "      <td>29.03</td>\n",
       "      <td>5.92</td>\n",
       "      <td>Male</td>\n",
       "      <td>No</td>\n",
       "      <td>Sat</td>\n",
       "      <td>3</td>\n",
       "      <td>20.797</td>\n",
       "    </tr>\n",
       "    <tr>\n",
       "      <th>240</th>\n",
       "      <td>27.18</td>\n",
       "      <td>2.00</td>\n",
       "      <td>Female</td>\n",
       "      <td>Yes</td>\n",
       "      <td>Sat</td>\n",
       "      <td>2</td>\n",
       "      <td>20.797</td>\n",
       "    </tr>\n",
       "    <tr>\n",
       "      <th>241</th>\n",
       "      <td>22.67</td>\n",
       "      <td>2.00</td>\n",
       "      <td>Male</td>\n",
       "      <td>Yes</td>\n",
       "      <td>Sat</td>\n",
       "      <td>2</td>\n",
       "      <td>20.797</td>\n",
       "    </tr>\n",
       "    <tr>\n",
       "      <th>242</th>\n",
       "      <td>17.82</td>\n",
       "      <td>1.75</td>\n",
       "      <td>Male</td>\n",
       "      <td>No</td>\n",
       "      <td>Sat</td>\n",
       "      <td>2</td>\n",
       "      <td>20.797</td>\n",
       "    </tr>\n",
       "    <tr>\n",
       "      <th>243</th>\n",
       "      <td>18.78</td>\n",
       "      <td>3.00</td>\n",
       "      <td>Female</td>\n",
       "      <td>No</td>\n",
       "      <td>Thur</td>\n",
       "      <td>2</td>\n",
       "      <td>20.797</td>\n",
       "    </tr>\n",
       "  </tbody>\n",
       "</table>\n",
       "<p>244 rows × 7 columns</p>\n",
       "</div>"
      ],
      "text/plain": [
       "     total_bill   tip     sex smoker   day  size time_encoded\n",
       "0         16.99  1.01  Female     No   Sun     2       20.797\n",
       "1         10.34  1.66    Male     No   Sun     3       20.797\n",
       "2         21.01  3.50    Male     No   Sun     3       20.797\n",
       "3         23.68  3.31    Male     No   Sun     2       20.797\n",
       "4         24.59  3.61  Female     No   Sun     4       20.797\n",
       "..          ...   ...     ...    ...   ...   ...          ...\n",
       "239       29.03  5.92    Male     No   Sat     3       20.797\n",
       "240       27.18  2.00  Female    Yes   Sat     2       20.797\n",
       "241       22.67  2.00    Male    Yes   Sat     2       20.797\n",
       "242       17.82  1.75    Male     No   Sat     2       20.797\n",
       "243       18.78  3.00  Female     No  Thur     2       20.797\n",
       "\n",
       "[244 rows x 7 columns]"
      ]
     },
     "execution_count": 14,
     "metadata": {},
     "output_type": "execute_result"
    }
   ],
   "source": [
    "# example \n",
    "import seaborn as sns\n",
    "import pandas as pd\n",
    "\n",
    "tips_df = sns.load_dataset('tips')\n",
    "time_mean = tips_df.groupby('time').mean()['total_bill'].round(3).to_dict()\n",
    "tips_df['time_encoded']= tips_df['time'].map(time_mean)\n",
    "tips_df = tips_df.drop('time',axis = 1)\n",
    "tips_df\n",
    "\n",
    "# time column encoded and replaced with mean  time_encoded which share direct relation with target i.e total_bill"
   ]
  },
  {
   "cell_type": "markdown",
   "id": "3b4920ee",
   "metadata": {},
   "source": [
    "### Q3. Define covariance and explain why it is important in statistical analysis. How is covariance calculated?\n"
   ]
  },
  {
   "cell_type": "code",
   "execution_count": null,
   "id": "5f0a1847",
   "metadata": {},
   "outputs": [],
   "source": [
    "# Covariance measures how much changes in one varaible due to change in another variable \n",
    "\n",
    "# It's quiet important in statistical analysis as it help us to find relevant column to which our data relies \n",
    "# and we can also skip those column whos Covariance low or Negative which further fasten our analysis \n",
    "\n",
    "# covariance calculated in python using inbuilt function \n",
    "cov()  we can use this with both numpy array or Pandas Dataframe\n",
    "# this gave us the covariance of each numerical column with respect to each and every column "
   ]
  },
  {
   "cell_type": "markdown",
   "id": "2f77e097",
   "metadata": {},
   "source": [
    "### Q4. For a dataset with the following categorical variables: Color (red, green, blue), Size (small, medium, large), and Material (wood, metal, plastic), perform label encoding using Python's scikit-learn library. Show your code and explain the output.\n"
   ]
  },
  {
   "cell_type": "code",
   "execution_count": 15,
   "id": "982d0f9c",
   "metadata": {},
   "outputs": [
    {
     "name": "stderr",
     "output_type": "stream",
     "text": [
      "C:\\Users\\ASUS\\anaconda3\\lib\\site-packages\\sklearn\\preprocessing\\_label.py:116: DataConversionWarning: A column-vector y was passed when a 1d array was expected. Please change the shape of y to (n_samples, ), for example using ravel().\n",
      "  y = column_or_1d(y, warn=True)\n",
      "C:\\Users\\ASUS\\anaconda3\\lib\\site-packages\\sklearn\\preprocessing\\_label.py:134: DataConversionWarning: A column-vector y was passed when a 1d array was expected. Please change the shape of y to (n_samples, ), for example using ravel().\n",
      "  y = column_or_1d(y, dtype=self.classes_.dtype, warn=True)\n"
     ]
    },
    {
     "data": {
      "text/plain": [
       "array([2])"
      ]
     },
     "execution_count": 15,
     "metadata": {},
     "output_type": "execute_result"
    }
   ],
   "source": [
    "#importing relevant libraries \n",
    "\n",
    "import pandas as pd \n",
    "from sklearn.preprocessing import LabelEncoder\n",
    "data = {'Color': ['red','blue','gree'],'Size': ['small','medium','large'],'Material' : ['wood','metal','plastic']}\n",
    "df = pd.DataFrame(data)\n",
    "\n",
    "#performing Label encoding\n",
    "size_encoder = LabelEncoder()\n",
    "size_encoder.fit_transform(df[['Size']])\n",
    "#getting encoded values from our model\n",
    "size_encoder.transform([['small']])\n",
    "\n",
    "#this will gave us array[2] as first Size sort alphabetically then labelled\n",
    "#similarly we could encode Color and Materials too just change in fit_transform "
   ]
  },
  {
   "cell_type": "code",
   "execution_count": 18,
   "id": "25a34089",
   "metadata": {},
   "outputs": [
    {
     "name": "stderr",
     "output_type": "stream",
     "text": [
      "C:\\Users\\ASUS\\anaconda3\\lib\\site-packages\\sklearn\\preprocessing\\_label.py:134: DataConversionWarning: A column-vector y was passed when a 1d array was expected. Please change the shape of y to (n_samples, ), for example using ravel().\n",
      "  y = column_or_1d(y, dtype=self.classes_.dtype, warn=True)\n"
     ]
    },
    {
     "data": {
      "text/plain": [
       "array([0])"
      ]
     },
     "execution_count": 18,
     "metadata": {},
     "output_type": "execute_result"
    }
   ],
   "source": [
    "size_encoder.transform([['large']]) "
   ]
  },
  {
   "cell_type": "markdown",
   "id": "a30c4fbd",
   "metadata": {},
   "source": [
    "### Q5. Calculate the covariance matrix for the following variables in a dataset: Age, Income, and Education level. Interpret the results.\n"
   ]
  },
  {
   "cell_type": "code",
   "execution_count": 72,
   "id": "ca696a9d",
   "metadata": {},
   "outputs": [
    {
     "data": {
      "text/html": [
       "<div>\n",
       "<style scoped>\n",
       "    .dataframe tbody tr th:only-of-type {\n",
       "        vertical-align: middle;\n",
       "    }\n",
       "\n",
       "    .dataframe tbody tr th {\n",
       "        vertical-align: top;\n",
       "    }\n",
       "\n",
       "    .dataframe thead th {\n",
       "        text-align: right;\n",
       "    }\n",
       "</style>\n",
       "<table border=\"1\" class=\"dataframe\">\n",
       "  <thead>\n",
       "    <tr style=\"text-align: right;\">\n",
       "      <th></th>\n",
       "      <th>age</th>\n",
       "      <th>Income</th>\n",
       "      <th>Education Level--</th>\n",
       "    </tr>\n",
       "  </thead>\n",
       "  <tbody>\n",
       "    <tr>\n",
       "      <th>0</th>\n",
       "      <td>12</td>\n",
       "      <td>0</td>\n",
       "      <td>0.0</td>\n",
       "    </tr>\n",
       "    <tr>\n",
       "      <th>1</th>\n",
       "      <td>25</td>\n",
       "      <td>20300</td>\n",
       "      <td>1.0</td>\n",
       "    </tr>\n",
       "    <tr>\n",
       "      <th>2</th>\n",
       "      <td>26</td>\n",
       "      <td>12000</td>\n",
       "      <td>0.0</td>\n",
       "    </tr>\n",
       "    <tr>\n",
       "      <th>3</th>\n",
       "      <td>73</td>\n",
       "      <td>5200</td>\n",
       "      <td>2.0</td>\n",
       "    </tr>\n",
       "    <tr>\n",
       "      <th>4</th>\n",
       "      <td>23</td>\n",
       "      <td>29398</td>\n",
       "      <td>1.0</td>\n",
       "    </tr>\n",
       "    <tr>\n",
       "      <th>5</th>\n",
       "      <td>34</td>\n",
       "      <td>52020</td>\n",
       "      <td>2.0</td>\n",
       "    </tr>\n",
       "    <tr>\n",
       "      <th>6</th>\n",
       "      <td>63</td>\n",
       "      <td>102029</td>\n",
       "      <td>3.0</td>\n",
       "    </tr>\n",
       "    <tr>\n",
       "      <th>7</th>\n",
       "      <td>23</td>\n",
       "      <td>30028</td>\n",
       "      <td>2.0</td>\n",
       "    </tr>\n",
       "    <tr>\n",
       "      <th>8</th>\n",
       "      <td>35</td>\n",
       "      <td>70008</td>\n",
       "      <td>3.0</td>\n",
       "    </tr>\n",
       "  </tbody>\n",
       "</table>\n",
       "</div>"
      ],
      "text/plain": [
       "   age  Income  Education Level--\n",
       "0   12       0                0.0\n",
       "1   25   20300                1.0\n",
       "2   26   12000                0.0\n",
       "3   73    5200                2.0\n",
       "4   23   29398                1.0\n",
       "5   34   52020                2.0\n",
       "6   63  102029                3.0\n",
       "7   23   30028                2.0\n",
       "8   35   70008                3.0"
      ]
     },
     "execution_count": 72,
     "metadata": {},
     "output_type": "execute_result"
    }
   ],
   "source": [
    "#creating a dataframe which has age, income and education level and related data \n",
    "data = {'age':[12,25,26,73,23,34,63,23,35],'Income':[0,20300,12000,5200,29398,52020,102029,30028,70008], 'Education Level':['High School','Bachlor','High School','Masters','Bachlor','Masters','PhD','Masters','PhD']}\n",
    "df = pd.DataFrame(data)\n",
    "\n",
    "# lets Encode Education level soo we can find covariance of all \n",
    "# here we use ordinal encoding \n",
    "from sklearn.preprocessing import OrdinalEncoder\n",
    "encoder = OrdinalEncoder(categories=[['High School','Bachlor','Masters','PhD']])\n",
    "df['Education Level--']=encoder.fit_transform(df[['Education Level']])\n",
    "\n",
    "df = df.drop('Education Level',axis=1)\n",
    "df"
   ]
  },
  {
   "cell_type": "code",
   "execution_count": 73,
   "id": "75d57347",
   "metadata": {},
   "outputs": [
    {
     "data": {
      "text/html": [
       "<div>\n",
       "<style scoped>\n",
       "    .dataframe tbody tr th:only-of-type {\n",
       "        vertical-align: middle;\n",
       "    }\n",
       "\n",
       "    .dataframe tbody tr th {\n",
       "        vertical-align: top;\n",
       "    }\n",
       "\n",
       "    .dataframe thead th {\n",
       "        text-align: right;\n",
       "    }\n",
       "</style>\n",
       "<table border=\"1\" class=\"dataframe\">\n",
       "  <thead>\n",
       "    <tr style=\"text-align: right;\">\n",
       "      <th></th>\n",
       "      <th>age</th>\n",
       "      <th>Income</th>\n",
       "      <th>Education Level--</th>\n",
       "    </tr>\n",
       "  </thead>\n",
       "  <tbody>\n",
       "    <tr>\n",
       "      <th>age</th>\n",
       "      <td>1.000000</td>\n",
       "      <td>0.375416</td>\n",
       "      <td>0.625236</td>\n",
       "    </tr>\n",
       "    <tr>\n",
       "      <th>Income</th>\n",
       "      <td>0.375416</td>\n",
       "      <td>1.000000</td>\n",
       "      <td>0.798175</td>\n",
       "    </tr>\n",
       "    <tr>\n",
       "      <th>Education Level--</th>\n",
       "      <td>0.625236</td>\n",
       "      <td>0.798175</td>\n",
       "      <td>1.000000</td>\n",
       "    </tr>\n",
       "  </tbody>\n",
       "</table>\n",
       "</div>"
      ],
      "text/plain": [
       "                        age    Income  Education Level--\n",
       "age                1.000000  0.375416           0.625236\n",
       "Income             0.375416  1.000000           0.798175\n",
       "Education Level--  0.625236  0.798175           1.000000"
      ]
     },
     "execution_count": 73,
     "metadata": {},
     "output_type": "execute_result"
    }
   ],
   "source": [
    "df.corr()\n",
    "# so as we saw there's strong correlation btw age & income with Education level and some extend of relation with \n",
    "# income and age"
   ]
  },
  {
   "cell_type": "code",
   "execution_count": 74,
   "id": "14fd170e",
   "metadata": {},
   "outputs": [
    {
     "data": {
      "text/html": [
       "<div>\n",
       "<style scoped>\n",
       "    .dataframe tbody tr th:only-of-type {\n",
       "        vertical-align: middle;\n",
       "    }\n",
       "\n",
       "    .dataframe tbody tr th {\n",
       "        vertical-align: top;\n",
       "    }\n",
       "\n",
       "    .dataframe thead th {\n",
       "        text-align: right;\n",
       "    }\n",
       "</style>\n",
       "<table border=\"1\" class=\"dataframe\">\n",
       "  <thead>\n",
       "    <tr style=\"text-align: right;\">\n",
       "      <th></th>\n",
       "      <th>age</th>\n",
       "      <th>Income</th>\n",
       "      <th>Education Level--</th>\n",
       "    </tr>\n",
       "  </thead>\n",
       "  <tbody>\n",
       "    <tr>\n",
       "      <th>age</th>\n",
       "      <td>403.361111</td>\n",
       "      <td>2.517431e+05</td>\n",
       "      <td>14.194444</td>\n",
       "    </tr>\n",
       "    <tr>\n",
       "      <th>Income</th>\n",
       "      <td>251743.097222</td>\n",
       "      <td>1.114798e+09</td>\n",
       "      <td>30124.763889</td>\n",
       "    </tr>\n",
       "    <tr>\n",
       "      <th>Education Level--</th>\n",
       "      <td>14.194444</td>\n",
       "      <td>3.012476e+04</td>\n",
       "      <td>1.277778</td>\n",
       "    </tr>\n",
       "  </tbody>\n",
       "</table>\n",
       "</div>"
      ],
      "text/plain": [
       "                             age        Income  Education Level--\n",
       "age                   403.361111  2.517431e+05          14.194444\n",
       "Income             251743.097222  1.114798e+09       30124.763889\n",
       "Education Level--      14.194444  3.012476e+04           1.277778"
      ]
     },
     "execution_count": 74,
     "metadata": {},
     "output_type": "execute_result"
    }
   ],
   "source": [
    "df.cov()\n",
    "# reading covariance a bit difficult due to exagerated values but we can easily spot \n",
    "# income and education level has high covariance and same for income and age "
   ]
  },
  {
   "cell_type": "markdown",
   "id": "93523d0c",
   "metadata": {},
   "source": [
    "### Q6. You are working on a machine learning project with a dataset containing several categorical variables, including \"Gender\" (Male/Female), \"Education Level\" (High School/Bachelor's/Master's/PhD), and \"Employment Status\" (Unemployed/Part-Time/Full-Time). Which encoding method would you use for each variable, and why?\n"
   ]
  },
  {
   "cell_type": "code",
   "execution_count": 36,
   "id": "11f6fb43",
   "metadata": {},
   "outputs": [
    {
     "name": "stderr",
     "output_type": "stream",
     "text": [
      "C:\\Users\\ASUS\\anaconda3\\lib\\site-packages\\sklearn\\preprocessing\\_label.py:116: DataConversionWarning: A column-vector y was passed when a 1d array was expected. Please change the shape of y to (n_samples, ), for example using ravel().\n",
      "  y = column_or_1d(y, warn=True)\n"
     ]
    },
    {
     "data": {
      "text/plain": [
       "array([[0.],\n",
       "       [1.],\n",
       "       [2.],\n",
       "       [0.]])"
      ]
     },
     "execution_count": 36,
     "metadata": {},
     "output_type": "execute_result"
    }
   ],
   "source": [
    "data = {'Gender' : ['Male','Female','Female', 'Male'], 'Education Level' : ['High School','Bachelor s','Masters','PhD'],\n",
    "       'Employment Status' : ['Unemployed','Part-Time', 'Full Time','Unemployed']}\n",
    "df = pd.DataFrame(data)\n",
    "\n",
    "\n",
    "# for Gender we can use label encoding as in that Female stands for 0 and male 1 \n",
    "gen_encoder = LabelEncoder()\n",
    "gen_encoder.fit_transform(df[['Gender']])\n",
    "\n",
    "# for Education level we choose Ordinal encoding as we need to define order in specific manner we can't rely on alpha sorting\n",
    "from sklearn.preprocessing import OrdinalEncoder\n",
    "edu_encoder = OrdinalEncoder(categories=[['High School','Bachelor s','Masters','PhD']])\n",
    "edu_encoder.fit_transform(df[['Education Level']])\n",
    "\n",
    "# for \"Employment Status\" again we gone choose Ordinal Encoding\n",
    "emp_encoder = OrdinalEncoder(categories=[['Unemployed','Part-Time', 'Full Time']])\n",
    "emp_encoder.fit_transform(df[['Employment Status']])"
   ]
  },
  {
   "cell_type": "markdown",
   "id": "1be06591",
   "metadata": {},
   "source": [
    "### Q7. You are analyzing a dataset with two continuous variables, \"Temperature\" and \"Humidity\", and two categorical variables, \"Weather Condition\" (Sunny/Cloudy/Rainy) and \"Wind Direction\" (North/South/ East/West). Calculate the covariance between each pair of variables and interpret the results."
   ]
  },
  {
   "cell_type": "code",
   "execution_count": 82,
   "id": "ac01afa3",
   "metadata": {},
   "outputs": [
    {
     "data": {
      "text/html": [
       "<div>\n",
       "<style scoped>\n",
       "    .dataframe tbody tr th:only-of-type {\n",
       "        vertical-align: middle;\n",
       "    }\n",
       "\n",
       "    .dataframe tbody tr th {\n",
       "        vertical-align: top;\n",
       "    }\n",
       "\n",
       "    .dataframe thead th {\n",
       "        text-align: right;\n",
       "    }\n",
       "</style>\n",
       "<table border=\"1\" class=\"dataframe\">\n",
       "  <thead>\n",
       "    <tr style=\"text-align: right;\">\n",
       "      <th></th>\n",
       "      <th>Temperature</th>\n",
       "      <th>Humidity</th>\n",
       "      <th>Weather Condition</th>\n",
       "      <th>Wind Direction</th>\n",
       "    </tr>\n",
       "  </thead>\n",
       "  <tbody>\n",
       "    <tr>\n",
       "      <th>0</th>\n",
       "      <td>34.313961</td>\n",
       "      <td>47.062878</td>\n",
       "      <td>Rainy</td>\n",
       "      <td>South</td>\n",
       "    </tr>\n",
       "    <tr>\n",
       "      <th>1</th>\n",
       "      <td>37.964830</td>\n",
       "      <td>42.946016</td>\n",
       "      <td>Sunny</td>\n",
       "      <td>North</td>\n",
       "    </tr>\n",
       "    <tr>\n",
       "      <th>2</th>\n",
       "      <td>36.950573</td>\n",
       "      <td>57.723541</td>\n",
       "      <td>Rainy</td>\n",
       "      <td>East</td>\n",
       "    </tr>\n",
       "    <tr>\n",
       "      <th>3</th>\n",
       "      <td>44.383696</td>\n",
       "      <td>72.613033</td>\n",
       "      <td>Sunny</td>\n",
       "      <td>North</td>\n",
       "    </tr>\n",
       "    <tr>\n",
       "      <th>4</th>\n",
       "      <td>45.983333</td>\n",
       "      <td>46.023631</td>\n",
       "      <td>Rainy</td>\n",
       "      <td>East</td>\n",
       "    </tr>\n",
       "  </tbody>\n",
       "</table>\n",
       "</div>"
      ],
      "text/plain": [
       "   Temperature   Humidity Weather Condition Wind Direction\n",
       "0    34.313961  47.062878             Rainy          South\n",
       "1    37.964830  42.946016             Sunny          North\n",
       "2    36.950573  57.723541             Rainy           East\n",
       "3    44.383696  72.613033             Sunny          North\n",
       "4    45.983333  46.023631             Rainy           East"
      ]
     },
     "execution_count": 82,
     "metadata": {},
     "output_type": "execute_result"
    }
   ],
   "source": [
    "import numpy as np \n",
    "import pandas as pd \n",
    "n = 5\n",
    "#creating variable and filling some random values \n",
    "temp = np.random.normal(40,10,n)\n",
    "humidity = np.random.normal(60,10,n) \n",
    "weather = np.random.choice(['Sunny','Cloudy','Rainy'],n)\n",
    "wind = np.random.choice(['North','South','East','West'],n)\n",
    "#now puting all these in one dataframe\n",
    "df = pd.DataFrame({'Temperature':temp,\n",
    "                   'Humidity': humidity,\n",
    "                   'Weather Condition': weather,\n",
    "                   'Wind Direction': wind})\n",
    "df"
   ]
  },
  {
   "cell_type": "code",
   "execution_count": 83,
   "id": "3a7c57eb",
   "metadata": {},
   "outputs": [
    {
     "data": {
      "text/html": [
       "<div>\n",
       "<style scoped>\n",
       "    .dataframe tbody tr th:only-of-type {\n",
       "        vertical-align: middle;\n",
       "    }\n",
       "\n",
       "    .dataframe tbody tr th {\n",
       "        vertical-align: top;\n",
       "    }\n",
       "\n",
       "    .dataframe thead th {\n",
       "        text-align: right;\n",
       "    }\n",
       "</style>\n",
       "<table border=\"1\" class=\"dataframe\">\n",
       "  <thead>\n",
       "    <tr style=\"text-align: right;\">\n",
       "      <th></th>\n",
       "      <th>Temperature</th>\n",
       "      <th>Humidity</th>\n",
       "    </tr>\n",
       "  </thead>\n",
       "  <tbody>\n",
       "    <tr>\n",
       "      <th>Temperature</th>\n",
       "      <td>25.189111</td>\n",
       "      <td>21.040582</td>\n",
       "    </tr>\n",
       "    <tr>\n",
       "      <th>Humidity</th>\n",
       "      <td>21.040582</td>\n",
       "      <td>147.902444</td>\n",
       "    </tr>\n",
       "  </tbody>\n",
       "</table>\n",
       "</div>"
      ],
      "text/plain": [
       "             Temperature    Humidity\n",
       "Temperature    25.189111   21.040582\n",
       "Humidity       21.040582  147.902444"
      ]
     },
     "execution_count": 83,
     "metadata": {},
     "output_type": "execute_result"
    }
   ],
   "source": [
    "# Covariance \n",
    "df.cov()\n",
    "#cov btw Humidity and temperature is 21 which indicates that there is +ve relationship btw them "
   ]
  },
  {
   "cell_type": "code",
   "execution_count": 84,
   "id": "28ad6431",
   "metadata": {},
   "outputs": [
    {
     "data": {
      "text/html": [
       "<div>\n",
       "<style scoped>\n",
       "    .dataframe tbody tr th:only-of-type {\n",
       "        vertical-align: middle;\n",
       "    }\n",
       "\n",
       "    .dataframe tbody tr th {\n",
       "        vertical-align: top;\n",
       "    }\n",
       "\n",
       "    .dataframe thead th {\n",
       "        text-align: right;\n",
       "    }\n",
       "</style>\n",
       "<table border=\"1\" class=\"dataframe\">\n",
       "  <thead>\n",
       "    <tr style=\"text-align: right;\">\n",
       "      <th></th>\n",
       "      <th>Temperature</th>\n",
       "      <th>Humidity</th>\n",
       "    </tr>\n",
       "  </thead>\n",
       "  <tbody>\n",
       "    <tr>\n",
       "      <th>Temperature</th>\n",
       "      <td>1.000000</td>\n",
       "      <td>0.344718</td>\n",
       "    </tr>\n",
       "    <tr>\n",
       "      <th>Humidity</th>\n",
       "      <td>0.344718</td>\n",
       "      <td>1.000000</td>\n",
       "    </tr>\n",
       "  </tbody>\n",
       "</table>\n",
       "</div>"
      ],
      "text/plain": [
       "             Temperature  Humidity\n",
       "Temperature     1.000000  0.344718\n",
       "Humidity        0.344718  1.000000"
      ]
     },
     "execution_count": 84,
     "metadata": {},
     "output_type": "execute_result"
    }
   ],
   "source": [
    "df.corr()\n",
    "\n",
    "# correlation is 0.344 i.e they do have some relationship but not that strong "
   ]
  }
 ],
 "metadata": {
  "kernelspec": {
   "display_name": "Python 3 (ipykernel)",
   "language": "python",
   "name": "python3"
  },
  "language_info": {
   "codemirror_mode": {
    "name": "ipython",
    "version": 3
   },
   "file_extension": ".py",
   "mimetype": "text/x-python",
   "name": "python",
   "nbconvert_exporter": "python",
   "pygments_lexer": "ipython3",
   "version": "3.9.16"
  }
 },
 "nbformat": 4,
 "nbformat_minor": 5
}
