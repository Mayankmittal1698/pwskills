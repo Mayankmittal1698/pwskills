{
 "cells": [
  {
   "cell_type": "code",
   "execution_count": 2,
   "id": "222e7af9",
   "metadata": {},
   "outputs": [],
   "source": [
    "import pandas as pd \n",
    "import numpy as np \n",
    "import matplotlib.pyplot as plt \n",
    "%matplotlib inline"
   ]
  },
  {
   "cell_type": "markdown",
   "id": "ccd9d202",
   "metadata": {},
   "source": [
    "### Q1. What is Min-Max scaling, and how is it used in data preprocessing? Provide an example to illustrate its application.\n"
   ]
  },
  {
   "cell_type": "markdown",
   "id": "7fe664f6",
   "metadata": {},
   "source": [
    "#### Min-Max scaling is a part of Feature scaling to transform data into a normalized data in Min-Max scaling values of whole columns are shifted so that they are bounded btw a fixed value i.e 0 - 1 \n",
    "#### Min-Max scaling widely used in DeepLearning, Computer vision and Image Processing\n",
    "\n",
    "$$\n",
    "    x_{std} = \\frac{x_i - x_{min}}{x_{max} - x_{min}}\\\\\\\\\n",
    "    x_{scaled} = {x_{std}}*(max-min) + min\n",
    "$$\n",
    "\n",
    "#### It scales the values to a specific value range without changing the shape of the original distribution"
   ]
  },
  {
   "cell_type": "code",
   "execution_count": 3,
   "id": "d0c9db73",
   "metadata": {},
   "outputs": [
    {
     "name": "stdout",
     "output_type": "stream",
     "text": [
      "[[1.         0.        ]\n",
      " [0.27272727 0.625     ]\n",
      " [0.         1.        ]\n",
      " [1.         0.75      ]]\n"
     ]
    }
   ],
   "source": [
    "from sklearn.preprocessing import MinMaxScaler\n",
    "\n",
    "data = [[11, 2], [3, 7], [0, 10], [11, 8]]\n",
    "\n",
    "scaler = MinMaxScaler()\n",
    "model=scaler.fit(data)\n",
    "scaled_data=model.transform(data)\n",
    "\n",
    "print(scaled_data)\n",
    "# scaled data now in range of 0 to 1"
   ]
  },
  {
   "cell_type": "markdown",
   "id": "3d9834c5",
   "metadata": {},
   "source": [
    "### Q2. What is the Unit Vector technique in feature scaling, and how does it differ from Min-Max scaling? Provide an example to illustrate its application.\n"
   ]
  },
  {
   "cell_type": "markdown",
   "id": "ba48bc7a",
   "metadata": {},
   "source": [
    "#### Just like MinMax Scaling Unit Vector also converts the values btw 0 and 1 & -1 to 1 when there is -ve values in our data\n",
    "\n",
    "- Key difference btw MinMax & UnitVector\n",
    " - for L1 Normalization each column converted so absolute sum of their values along row = 1\n",
    " - for L2 Norm, each column are 1st squared then added so absolute sum along row = 1\n"
   ]
  },
  {
   "cell_type": "code",
   "execution_count": 4,
   "id": "3922541f",
   "metadata": {},
   "outputs": [
    {
     "data": {
      "text/html": [
       "<div>\n",
       "<style scoped>\n",
       "    .dataframe tbody tr th:only-of-type {\n",
       "        vertical-align: middle;\n",
       "    }\n",
       "\n",
       "    .dataframe tbody tr th {\n",
       "        vertical-align: top;\n",
       "    }\n",
       "\n",
       "    .dataframe thead th {\n",
       "        text-align: right;\n",
       "    }\n",
       "</style>\n",
       "<table border=\"1\" class=\"dataframe\">\n",
       "  <thead>\n",
       "    <tr style=\"text-align: right;\">\n",
       "      <th></th>\n",
       "      <th>Income</th>\n",
       "      <th>Age</th>\n",
       "      <th>Department</th>\n",
       "    </tr>\n",
       "  </thead>\n",
       "  <tbody>\n",
       "    <tr>\n",
       "      <th>0</th>\n",
       "      <td>15000</td>\n",
       "      <td>25</td>\n",
       "      <td>HR</td>\n",
       "    </tr>\n",
       "    <tr>\n",
       "      <th>1</th>\n",
       "      <td>1800</td>\n",
       "      <td>18</td>\n",
       "      <td>Legal</td>\n",
       "    </tr>\n",
       "    <tr>\n",
       "      <th>2</th>\n",
       "      <td>120000</td>\n",
       "      <td>42</td>\n",
       "      <td>Marketing</td>\n",
       "    </tr>\n",
       "    <tr>\n",
       "      <th>3</th>\n",
       "      <td>10000</td>\n",
       "      <td>51</td>\n",
       "      <td>Management</td>\n",
       "    </tr>\n",
       "  </tbody>\n",
       "</table>\n",
       "</div>"
      ],
      "text/plain": [
       "   Income  Age  Department\n",
       "0   15000   25          HR\n",
       "1    1800   18       Legal\n",
       "2  120000   42   Marketing\n",
       "3   10000   51  Management"
      ]
     },
     "execution_count": 4,
     "metadata": {},
     "output_type": "execute_result"
    }
   ],
   "source": [
    "df = pd.DataFrame({\n",
    "    'Income': [15000, 1800, 120000, 10000],\n",
    "    'Age': [25, 18, 42, 51],\n",
    "    'Department': ['HR','Legal','Marketing','Management']\n",
    "})\n",
    "df_scaled = df.copy()\n",
    "col_names = ['Income','Age']\n",
    "features = df_scaled[col_names]\n",
    "df_scaled"
   ]
  },
  {
   "cell_type": "code",
   "execution_count": 5,
   "id": "2873affd",
   "metadata": {},
   "outputs": [
    {
     "data": {
      "text/html": [
       "<div>\n",
       "<style scoped>\n",
       "    .dataframe tbody tr th:only-of-type {\n",
       "        vertical-align: middle;\n",
       "    }\n",
       "\n",
       "    .dataframe tbody tr th {\n",
       "        vertical-align: top;\n",
       "    }\n",
       "\n",
       "    .dataframe thead th {\n",
       "        text-align: right;\n",
       "    }\n",
       "</style>\n",
       "<table border=\"1\" class=\"dataframe\">\n",
       "  <thead>\n",
       "    <tr style=\"text-align: right;\">\n",
       "      <th></th>\n",
       "      <th>Income</th>\n",
       "      <th>Age</th>\n",
       "      <th>Department</th>\n",
       "    </tr>\n",
       "  </thead>\n",
       "  <tbody>\n",
       "    <tr>\n",
       "      <th>0</th>\n",
       "      <td>0.999999</td>\n",
       "      <td>0.001667</td>\n",
       "      <td>HR</td>\n",
       "    </tr>\n",
       "    <tr>\n",
       "      <th>1</th>\n",
       "      <td>0.999950</td>\n",
       "      <td>0.010000</td>\n",
       "      <td>Legal</td>\n",
       "    </tr>\n",
       "    <tr>\n",
       "      <th>2</th>\n",
       "      <td>1.000000</td>\n",
       "      <td>0.000350</td>\n",
       "      <td>Marketing</td>\n",
       "    </tr>\n",
       "    <tr>\n",
       "      <th>3</th>\n",
       "      <td>0.999987</td>\n",
       "      <td>0.005100</td>\n",
       "      <td>Management</td>\n",
       "    </tr>\n",
       "  </tbody>\n",
       "</table>\n",
       "</div>"
      ],
      "text/plain": [
       "     Income       Age  Department\n",
       "0  0.999999  0.001667          HR\n",
       "1  0.999950  0.010000       Legal\n",
       "2  1.000000  0.000350   Marketing\n",
       "3  0.999987  0.005100  Management"
      ]
     },
     "execution_count": 5,
     "metadata": {},
     "output_type": "execute_result"
    }
   ],
   "source": [
    "from sklearn.preprocessing import Normalizer\n",
    "\n",
    "scaler = Normalizer(norm = 'l2')\n",
    "# default norm also l2\n",
    "\n",
    "df_scaled[col_names] = scaler.fit_transform(features.values)\n",
    "df_scaled"
   ]
  },
  {
   "cell_type": "markdown",
   "id": "775ff7d5",
   "metadata": {},
   "source": [
    "### Q3. What is PCA (Principle Component Analysis), and how is it used in dimensionality reduction? Provide an example to illustrate its application.\n"
   ]
  },
  {
   "cell_type": "markdown",
   "id": "f1675ba1",
   "metadata": {},
   "source": [
    "#### PCA transform high-dimension data into lower dimension retaining as much info as possible. Ex from 3-Dimensional scatterplot to 2d plot\n",
    "\n",
    "##### Extremly usefull when datasets have lot of features \n",
    "- Applications:\n",
    " - Image processing\n",
    " - Genome research\n",
    "\n",
    "Writing a 1000 page book summary in 2-3 pages basically summarization"
   ]
  },
  {
   "cell_type": "code",
   "execution_count": 6,
   "id": "807615d5",
   "metadata": {},
   "outputs": [
    {
     "data": {
      "image/png": "[encoded data removed]",
      "text/plain": [
       "<Figure size 800x600 with 1 Axes>"
      ]
     },
     "metadata": {},
     "output_type": "display_data"
    }
   ],
   "source": [
    "import pandas as pd\n",
    "import numpy as np \n",
    "import matplotlib.pyplot as plt\n",
    "\n",
    "from sklearn.datasets import load_breast_cancer\n",
    "from sklearn.decomposition import PCA\n",
    "from sklearn.preprocessing import StandardScaler\n",
    "\n",
    "#Loading data\n",
    "raw_data = load_breast_cancer()\n",
    "raw_data.values()\n",
    "raw_data.keys()\n",
    "raw_data.DESCR\n",
    "#adding data to dataFrame\n",
    "data = pd.DataFrame(raw_data['data'],columns=raw_data['feature_names'])\n",
    "data.head()\n",
    "\n",
    "#standardization of data\n",
    "cl = StandardScaler()\n",
    "data_scaled = cl.fit_transform(data)\n",
    "data_scaled.shape\n",
    "\n",
    "#Dimensionality reduction from 30 to 2\n",
    "pca = PCA(n_components=2)\n",
    "data_pca = pca.fit_transform(data_scaled)\n",
    "data_pca\n",
    "pca.components_\n",
    "pca.explained_variance_,pca.explained_variance_ratio_\n",
    "\n",
    "# Ploting our PCA generated features\n",
    "plt.figure(figsize=(8,6))\n",
    "plt.scatter(data_pca[:,0],data_pca[:,1],c = raw_data['target'],cmap='rainbow')\n",
    "plt.xlabel('First Principal Component')\n",
    "plt.ylabel('Second Principal Component')\n",
    "plt.show()"
   ]
  },
  {
   "cell_type": "markdown",
   "id": "5bd202b0",
   "metadata": {},
   "source": [
    "### Q4. What is the relationship between PCA and Feature Extraction, and how can PCA be used for Feature Extraction? Provide an example to illustrate this concept.\n"
   ]
  },
  {
   "cell_type": "markdown",
   "id": "c1327fe2",
   "metadata": {},
   "source": [
    "PCA is a dimensionality reduction technique, However, PCA can be used as a tool within a feature extraction pipeline.\n",
    "\n",
    "Feature extraction refers to the process of selecting or creating a set of informative features from the original data. The goal is to capture the most relevant information while reducing dimensionality and eliminating noise. Feature extraction methods can include techniques like statistical measures, wavelet transforms, or deep learning architectures.\n",
    "\n",
    "PCA is a mathematical procedure that transforms a high-dimensional dataset into a new set of orthogonal variables called principal components. These principal components are linear combinations of the original features and are ordered in terms of the amount of variance they explain in the data.PCA re-expresses the data in a different coordinate system.\n",
    "\n",
    "However, PCA can indirectly assist with feature extraction. Here's how:\n",
    "\n",
    "1. Dimensionality reduction: By selecting a subset of the principal components that capture most of the variance, you effectively reduce the dimensionality of the data.\n",
    "\n",
    "2. Feature selection: After applying PCA, you can examine the contribution of each original feature to the principal components. Features that have higher loadings on the principal components are considered more important in capturing the variance. You can then select a subset of these original features as the extracted features for further analysis.\n",
    "\n",
    "3. Feature engineering: PCA can also guide feature engineering efforts. By understanding the relationships between the original features and the principal components, you may gain insights into creating new informative features. These new features can be derived from the original features or based on domain-specific knowledge.\n",
    "\n",
    "Example and use case explained in previous Question's Answer"
   ]
  },
  {
   "cell_type": "markdown",
   "id": "e61ebbf8",
   "metadata": {},
   "source": [
    "### Q5. You are working on a project to build a recommendation system for a food delivery service. The dataset contains features such as price, rating, and delivery time. Explain how you would use Min-Max scaling to preprocess the data.\n"
   ]
  },
  {
   "cell_type": "code",
   "execution_count": 7,
   "id": "df6e3b83",
   "metadata": {},
   "outputs": [
    {
     "data": {
      "text/html": [
       "<div>\n",
       "<style scoped>\n",
       "    .dataframe tbody tr th:only-of-type {\n",
       "        vertical-align: middle;\n",
       "    }\n",
       "\n",
       "    .dataframe tbody tr th {\n",
       "        vertical-align: top;\n",
       "    }\n",
       "\n",
       "    .dataframe thead th {\n",
       "        text-align: right;\n",
       "    }\n",
       "</style>\n",
       "<table border=\"1\" class=\"dataframe\">\n",
       "  <thead>\n",
       "    <tr style=\"text-align: right;\">\n",
       "      <th></th>\n",
       "      <th>Prices</th>\n",
       "      <th>Ratings</th>\n",
       "      <th>Delivery Time</th>\n",
       "    </tr>\n",
       "  </thead>\n",
       "  <tbody>\n",
       "    <tr>\n",
       "      <th>0</th>\n",
       "      <td>1231</td>\n",
       "      <td>4.1</td>\n",
       "      <td>1103.0</td>\n",
       "    </tr>\n",
       "    <tr>\n",
       "      <th>1</th>\n",
       "      <td>134</td>\n",
       "      <td>4.5</td>\n",
       "      <td>1401.0</td>\n",
       "    </tr>\n",
       "    <tr>\n",
       "      <th>2</th>\n",
       "      <td>438</td>\n",
       "      <td>3.8</td>\n",
       "      <td>503.0</td>\n",
       "    </tr>\n",
       "  </tbody>\n",
       "</table>\n",
       "</div>"
      ],
      "text/plain": [
       "   Prices  Ratings  Delivery Time\n",
       "0    1231      4.1         1103.0\n",
       "1     134      4.5         1401.0\n",
       "2     438      3.8          503.0"
      ]
     },
     "execution_count": 7,
     "metadata": {},
     "output_type": "execute_result"
    }
   ],
   "source": [
    "# creating a dataset containing required features and some values \n",
    "features = ['Prices','Ratings']\n",
    "values = [[1231,4.1],[134,4.5],[438,3.8]]\n",
    "raw_data = pd.DataFrame(data = values, columns= features)\n",
    "raw_data['Delivery Time'] = pd.to_timedelta(['00:18:23','00:23:21','00:08:23'])\n",
    "raw_data['Delivery Time'] = raw_data['Delivery Time'].dt.total_seconds()\n",
    "raw_data"
   ]
  },
  {
   "cell_type": "code",
   "execution_count": 8,
   "id": "b08b8861",
   "metadata": {},
   "outputs": [
    {
     "data": {
      "text/html": [
       "<div>\n",
       "<style scoped>\n",
       "    .dataframe tbody tr th:only-of-type {\n",
       "        vertical-align: middle;\n",
       "    }\n",
       "\n",
       "    .dataframe tbody tr th {\n",
       "        vertical-align: top;\n",
       "    }\n",
       "\n",
       "    .dataframe thead th {\n",
       "        text-align: right;\n",
       "    }\n",
       "</style>\n",
       "<table border=\"1\" class=\"dataframe\">\n",
       "  <thead>\n",
       "    <tr style=\"text-align: right;\">\n",
       "      <th></th>\n",
       "      <th>Prices</th>\n",
       "      <th>Ratings</th>\n",
       "      <th>Delivery Time</th>\n",
       "    </tr>\n",
       "  </thead>\n",
       "  <tbody>\n",
       "    <tr>\n",
       "      <th>0</th>\n",
       "      <td>1.000000</td>\n",
       "      <td>0.428571</td>\n",
       "      <td>0.668151</td>\n",
       "    </tr>\n",
       "    <tr>\n",
       "      <th>1</th>\n",
       "      <td>0.000000</td>\n",
       "      <td>1.000000</td>\n",
       "      <td>1.000000</td>\n",
       "    </tr>\n",
       "    <tr>\n",
       "      <th>2</th>\n",
       "      <td>0.277119</td>\n",
       "      <td>0.000000</td>\n",
       "      <td>0.000000</td>\n",
       "    </tr>\n",
       "  </tbody>\n",
       "</table>\n",
       "</div>"
      ],
      "text/plain": [
       "     Prices   Ratings  Delivery Time\n",
       "0  1.000000  0.428571       0.668151\n",
       "1  0.000000  1.000000       1.000000\n",
       "2  0.277119  0.000000       0.000000"
      ]
     },
     "execution_count": 8,
     "metadata": {},
     "output_type": "execute_result"
    }
   ],
   "source": [
    "scaler = MinMaxScaler()\n",
    "scaled_data = scaler.fit_transform(raw_data)\n",
    "df_scaled = pd.DataFrame(scaled_data, columns=  raw_data.columns)\n",
    "df_scaled"
   ]
  },
  {
   "cell_type": "markdown",
   "id": "0bfe14c9",
   "metadata": {},
   "source": [
    "### Q6. You are working on a project to build a model to predict stock prices. The dataset contains many features, such as company financial data and market trends. Explain how you would use PCA to reduce the dimensionality of the dataset.\n"
   ]
  },
  {
   "cell_type": "code",
   "execution_count": 9,
   "id": "30267778",
   "metadata": {},
   "outputs": [
    {
     "data": {
      "text/html": [
       "<div>\n",
       "<style scoped>\n",
       "    .dataframe tbody tr th:only-of-type {\n",
       "        vertical-align: middle;\n",
       "    }\n",
       "\n",
       "    .dataframe tbody tr th {\n",
       "        vertical-align: top;\n",
       "    }\n",
       "\n",
       "    .dataframe thead th {\n",
       "        text-align: right;\n",
       "    }\n",
       "</style>\n",
       "<table border=\"1\" class=\"dataframe\">\n",
       "  <thead>\n",
       "    <tr style=\"text-align: right;\">\n",
       "      <th></th>\n",
       "      <th>Revenue (in millions)</th>\n",
       "      <th>Expenses (in millions)</th>\n",
       "      <th>Profit (in millions)</th>\n",
       "      <th>Stock Price (in dollars)</th>\n",
       "      <th>Market Cap (in billions)</th>\n",
       "    </tr>\n",
       "  </thead>\n",
       "  <tbody>\n",
       "    <tr>\n",
       "      <th>Company A</th>\n",
       "      <td>209</td>\n",
       "      <td>143</td>\n",
       "      <td>66</td>\n",
       "      <td>10</td>\n",
       "      <td>6</td>\n",
       "    </tr>\n",
       "    <tr>\n",
       "      <th>Company B</th>\n",
       "      <td>226</td>\n",
       "      <td>166</td>\n",
       "      <td>60</td>\n",
       "      <td>11</td>\n",
       "      <td>8</td>\n",
       "    </tr>\n",
       "    <tr>\n",
       "      <th>Company C</th>\n",
       "      <td>166</td>\n",
       "      <td>117</td>\n",
       "      <td>49</td>\n",
       "      <td>19</td>\n",
       "      <td>10</td>\n",
       "    </tr>\n",
       "    <tr>\n",
       "      <th>Company D</th>\n",
       "      <td>198</td>\n",
       "      <td>146</td>\n",
       "      <td>52</td>\n",
       "      <td>10</td>\n",
       "      <td>9</td>\n",
       "    </tr>\n",
       "    <tr>\n",
       "      <th>Company E</th>\n",
       "      <td>117</td>\n",
       "      <td>157</td>\n",
       "      <td>-40</td>\n",
       "      <td>10</td>\n",
       "      <td>5</td>\n",
       "    </tr>\n",
       "  </tbody>\n",
       "</table>\n",
       "</div>"
      ],
      "text/plain": [
       "           Revenue (in millions)  Expenses (in millions)  \\\n",
       "Company A                    209                     143   \n",
       "Company B                    226                     166   \n",
       "Company C                    166                     117   \n",
       "Company D                    198                     146   \n",
       "Company E                    117                     157   \n",
       "\n",
       "           Profit (in millions)  Stock Price (in dollars)  \\\n",
       "Company A                    66                        10   \n",
       "Company B                    60                        11   \n",
       "Company C                    49                        19   \n",
       "Company D                    52                        10   \n",
       "Company E                   -40                        10   \n",
       "\n",
       "           Market Cap (in billions)  \n",
       "Company A                         6  \n",
       "Company B                         8  \n",
       "Company C                        10  \n",
       "Company D                         9  \n",
       "Company E                         5  "
      ]
     },
     "execution_count": 9,
     "metadata": {},
     "output_type": "execute_result"
    }
   ],
   "source": [
    "# creating a dataset containing required features and some values \n",
    "companies = ['Company A', 'Company B', 'Company C', 'Company D', 'Company E']\n",
    "\n",
    "# Set random seed for reproducibility\n",
    "np.random.seed(123)\n",
    "\n",
    "revenue = np.random.randint(100, 301, size=len(companies))\n",
    "expenses = np.random.randint(60, 181, size=len(companies))\n",
    "stock_price = np.random.randint(10, 21, size=len(companies))\n",
    "market_cap = np.random.randint(5, 11, size=len(companies))\n",
    "\n",
    "# Create a dictionary to hold the data\n",
    "data = {\n",
    "    'Revenue (in millions)': revenue,\n",
    "    'Expenses (in millions)': expenses,\n",
    "    'Profit (in millions)': revenue-expenses,\n",
    "    'Stock Price (in dollars)': stock_price,\n",
    "    'Market Cap (in billions)': market_cap,\n",
    "}\n",
    "\n",
    "df = pd.DataFrame(data,index=companies)\n",
    "df"
   ]
  },
  {
   "cell_type": "code",
   "execution_count": 10,
   "id": "d77da13d",
   "metadata": {},
   "outputs": [
    {
     "name": "stdout",
     "output_type": "stream",
     "text": [
      "   PCA Feature 1  PCA Feature 2\n",
      "0       0.144658      -0.966017\n",
      "1      -0.008001      -1.618758\n",
      "2      -2.423028       1.744899\n",
      "3      -0.422818      -0.663902\n",
      "4       2.709189       1.503778\n"
     ]
    },
    {
     "data": {
      "image/png": "[encoded data removed]",
      "text/plain": [
       "<Figure size 800x600 with 1 Axes>"
      ]
     },
     "metadata": {},
     "output_type": "display_data"
    }
   ],
   "source": [
    "# Standardization\n",
    "scaler = StandardScaler()\n",
    "scaled_data = scaler.fit_transform(df)\n",
    "\n",
    "#PCA\n",
    "pca_ = PCA(2)\n",
    "pca_data = pca_.fit_transform(scaled_data)\n",
    "df_pca = pd.DataFrame(pca_data,columns = ['PCA Feature 1','PCA Feature 2'])\n",
    "print(df_pca)\n",
    "\n",
    "plt.figure(figsize=(8,6))\n",
    "plt.scatter(df_pca['PCA Feature 1'],df_pca['PCA Feature 2'])\n",
    "plt.show()"
   ]
  },
  {
   "cell_type": "markdown",
   "id": "aad7be33",
   "metadata": {},
   "source": [
    "### Q7. For a dataset containing the following values: [1, 5, 10, 15, 20], perform Min-Max scaling to transform the values to a range of -1 to 1.\n"
   ]
  },
  {
   "cell_type": "code",
   "execution_count": 11,
   "id": "e10ed098",
   "metadata": {},
   "outputs": [
    {
     "data": {
      "text/html": [
       "<div>\n",
       "<style scoped>\n",
       "    .dataframe tbody tr th:only-of-type {\n",
       "        vertical-align: middle;\n",
       "    }\n",
       "\n",
       "    .dataframe tbody tr th {\n",
       "        vertical-align: top;\n",
       "    }\n",
       "\n",
       "    .dataframe thead th {\n",
       "        text-align: right;\n",
       "    }\n",
       "</style>\n",
       "<table border=\"1\" class=\"dataframe\">\n",
       "  <thead>\n",
       "    <tr style=\"text-align: right;\">\n",
       "      <th></th>\n",
       "      <th>0</th>\n",
       "    </tr>\n",
       "  </thead>\n",
       "  <tbody>\n",
       "    <tr>\n",
       "      <th>0</th>\n",
       "      <td>-1.000000</td>\n",
       "    </tr>\n",
       "    <tr>\n",
       "      <th>1</th>\n",
       "      <td>-0.578947</td>\n",
       "    </tr>\n",
       "    <tr>\n",
       "      <th>2</th>\n",
       "      <td>-0.052632</td>\n",
       "    </tr>\n",
       "    <tr>\n",
       "      <th>3</th>\n",
       "      <td>0.473684</td>\n",
       "    </tr>\n",
       "    <tr>\n",
       "      <th>4</th>\n",
       "      <td>1.000000</td>\n",
       "    </tr>\n",
       "  </tbody>\n",
       "</table>\n",
       "</div>"
      ],
      "text/plain": [
       "          0\n",
       "0 -1.000000\n",
       "1 -0.578947\n",
       "2 -0.052632\n",
       "3  0.473684\n",
       "4  1.000000"
      ]
     },
     "execution_count": 11,
     "metadata": {},
     "output_type": "execute_result"
    }
   ],
   "source": [
    "df = pd.DataFrame([1,5,10,15,20])\n",
    "scaler = MinMaxScaler(feature_range=(-1,1))\n",
    "scaled_data = scaler.fit_transform(df)\n",
    "df_scaled = pd.DataFrame(scaled_data)\n",
    "df_scaled"
   ]
  },
  {
   "cell_type": "markdown",
   "id": "51eb7379",
   "metadata": {},
   "source": [
    "### Q8. For a dataset containing the following features: [height, weight, age, gender, blood pressure], perform Feature Extraction using PCA. How many principal components would you choose to retain, and why?"
   ]
  },
  {
   "cell_type": "code",
   "execution_count": 12,
   "id": "068ee347",
   "metadata": {},
   "outputs": [],
   "source": [
    "np.random.seed(123)\n",
    "\n",
    "# Define the number of samples\n",
    "num_samples = 100\n",
    "\n",
    "height = np.random.normal(170, 10, num_samples).round(2)\n",
    "weight = np.random.normal(65, 15, num_samples).round(2)\n",
    "age = np.random.randint(20, 60, num_samples)\n",
    "gender = np.random.choice(['1', '0'], num_samples) # 1:Male , 0: female\n",
    "blood_pressure = np.random.randint(80, 140, num_samples)\n",
    "\n",
    "# Create a dictionary to hold the data\n",
    "data = {\n",
    "    'Height': height,\n",
    "    'Weight': weight,\n",
    "    'Age': age,\n",
    "    'Gender': gender,\n",
    "    'Blood Pressure': blood_pressure\n",
    "}\n",
    "\n",
    "# Create a DataFrame from the dictionary\n",
    "df = pd.DataFrame(data)"
   ]
  },
  {
   "cell_type": "code",
   "execution_count": 13,
   "id": "23efc6fc",
   "metadata": {},
   "outputs": [
    {
     "name": "stdout",
     "output_type": "stream",
     "text": [
      "Principal Component 1: 0.270\n",
      "Principal Component 2: 0.232\n",
      "Principal Component 3: 0.192\n",
      "Principal Component 4: 0.164\n",
      "Principal Component 5: 0.143\n"
     ]
    },
    {
     "data": {
      "image/png": "[encoded data removed]",
      "text/plain": [
       "<Figure size 640x480 with 1 Axes>"
      ]
     },
     "metadata": {},
     "output_type": "display_data"
    }
   ],
   "source": [
    "# Standardization of data\n",
    "scaler = StandardScaler()\n",
    "scaled_data = scaler.fit_transform(df)\n",
    "scaled_data\n",
    "\n",
    "# applying PCA for dimensionality reduction\n",
    "pca_ = PCA()\n",
    "data_pca = pca_.fit_transform(scaled_data)\n",
    "\n",
    "# Calculate the explained variance ratio\n",
    "explained_variance_ratio  = pca_.explained_variance_ratio_\n",
    "\n",
    "for i, ratio in enumerate(explained_variance_ratio):\n",
    "    print(f\"Principal Component {i+1}: {ratio:.3f}\")\n",
    "\n",
    "# Plot the explained variance ratio\n",
    "plt.plot(range(1, len(explained_variance_ratio) + 1), explained_variance_ratio, marker='o')\n",
    "plt.xlabel('Principal Component')\n",
    "plt.ylabel('Explained Variance Ratio')\n",
    "plt.title('Explained Variance Ratio by Principal Component')\n",
    "plt.show()\n"
   ]
  }
 ],
 "metadata": {
  "kernelspec": {
   "display_name": "Python 3 (ipykernel)",
   "language": "python",
   "name": "python3"
  },
  "language_info": {
   "codemirror_mode": {
    "name": "ipython",
    "version": 3
   },
   "file_extension": ".py",
   "mimetype": "text/x-python",
   "name": "python",
   "nbconvert_exporter": "python",
   "pygments_lexer": "ipython3",
   "version": "3.9.16"
  }
 },
 "nbformat": 4,
 "nbformat_minor": 5
}
