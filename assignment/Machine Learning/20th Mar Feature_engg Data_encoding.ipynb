{
 "cells": [
  {
   "cell_type": "code",
   "execution_count": 4,
   "id": "fcf51dfb",
   "metadata": {},
   "outputs": [],
   "source": [
    "import pandas as pd \n",
    "from sklearn.preprocessing import OneHotEncoder"
   ]
  },
  {
   "cell_type": "markdown",
   "id": "ca46292c",
   "metadata": {},
   "source": [
    "## Q1. What is data encoding? How is it useful in data science?\n"
   ]
  },
  {
   "cell_type": "markdown",
   "id": "2f92d869",
   "metadata": {},
   "source": [
    "Data encoding is a transformation of categorical values that our datasets has to Numerical Values \n",
    "\n",
    "##### Why we need??\n",
    "Normally Machine learning algorithm can't able to deal with Categorical data like text specially Linear or classification types so we need to feed them Numerical data to the algo so it learn from and predict well this also increases the overall accuracy of the model as additional important features added to the algo for prediction"
   ]
  },
  {
   "cell_type": "markdown",
   "id": "91ee7885",
   "metadata": {},
   "source": [
    "## Q2. What is nominal encoding? Provide an example of how you would use it in a real-world scenario.\n"
   ]
  },
  {
   "cell_type": "markdown",
   "id": "769a4efd",
   "metadata": {},
   "source": [
    "<b>Nominal Encoding</b> widely used in Machine Learning, in this data encoding each category in the feature represented as binary vector where each bit corresponding to a unique category\n",
    "\n",
    "<b>Example</b>: \n",
    "   - Considering a Feature in Df contains two unique categories ['Male', 'Female']\n",
    "   "
   ]
  },
  {
   "cell_type": "code",
   "execution_count": 6,
   "id": "053ad9fb",
   "metadata": {},
   "outputs": [
    {
     "data": {
      "text/plain": [
       "array([[0., 1.],\n",
       "       [0., 1.],\n",
       "       [1., 0.],\n",
       "       [0., 1.],\n",
       "       [1., 0.]])"
      ]
     },
     "execution_count": 6,
     "metadata": {},
     "output_type": "execute_result"
    }
   ],
   "source": [
    "data =  pd.DataFrame(['Male', 'Male', 'Female', 'Male', 'Female'],columns=['Sex'])\n",
    "encoder = OneHotEncoder()\n",
    "encoded = encoder.fit_transform(data[['Sex']]).toarray()\n",
    "encoded"
   ]
  },
  {
   "cell_type": "markdown",
   "id": "7a5b1d87",
   "metadata": {},
   "source": [
    "## Q3. In what situations is nominal encoding preferred over one-hot encoding? Provide a practical example.\n"
   ]
  },
  {
   "cell_type": "markdown",
   "id": "607bc251",
   "metadata": {},
   "source": [
    "both are same so no need to choose any one Nominal encoding is definition term and One-hot encoding is python term nothing else **\n",
    " \n",
    " \n",
    " **as per lecture"
   ]
  },
  {
   "cell_type": "markdown",
   "id": "3915760b",
   "metadata": {},
   "source": [
    "### Q4. Suppose you have a dataset containing categorical data with 5 unique values. Which encoding technique would you use to transform this data into a format suitable for machine learning algorithms? \n",
    " - Explain why you made this choice.\n"
   ]
  },
  {
   "cell_type": "markdown",
   "id": "ed212c1b",
   "metadata": {},
   "source": [
    "<i>If the categorical data with 5 unique values in our dataset than we can choose Nominal encoding to transform the data into suitable format for ML algo as Nominal Encoding maps each category to a unqiue binary vector"
   ]
  },
  {
   "cell_type": "markdown",
   "id": "05a9843d",
   "metadata": {},
   "source": [
    "### Q5. In a machine learning project, you have a dataset with 1000 rows and 5 columns. Two of the columns are categorical, and the remaining three columns are numerical. If you were to use nominal encoding to transform the categorical data, how many new columns would be created? Show your calculations.\n"
   ]
  },
  {
   "cell_type": "markdown",
   "id": "39217f09",
   "metadata": {},
   "source": [
    "Formation of new columns depends on the unique categorical data present both categorical columns \n",
    "lets say columns_1 has n unique data values and column_2 has m so<br> \n",
    "after Nominal encoding total numbers of columns would be <br>\n",
    "3 + n + m   <br>  (3 initial numerical column and n, m extra column generated after Nomical transformation)"
   ]
  },
  {
   "cell_type": "markdown",
   "id": "18f17fd9",
   "metadata": {},
   "source": [
    "### Q6. You are working with a dataset containing information about different types of animals, including their species, habitat, and diet. Which encoding technique would you use to transform the categorical data into a format suitable for machine learning algorithms? Justify your answer.\n"
   ]
  },
  {
   "cell_type": "markdown",
   "id": "25728f74",
   "metadata": {},
   "source": [
    "If there were small number of categories then Nominal encoding would be great choice for transformation of categorical data into suitable format but if large no. of categories present in our dataset than <b>Label & Ordinal Encoding</b> also be considered \n",
    "\n",
    "As No. of categories increases no. of column increase and creating sparse effect which leads to overfitting of our model"
   ]
  },
  {
   "cell_type": "markdown",
   "id": "6a47fb31",
   "metadata": {},
   "source": [
    "### Q7.You are working on a project that involves predicting customer churn for a telecommunications company. You have a dataset with 5 features, including the customer's gender, age, contract type, monthly charges, and tenure. Which encoding technique(s) would you use to transform the categorical data into numerical data? Provide a step-by-step explanation of how you would implement the encoding."
   ]
  },
  {
   "cell_type": "markdown",
   "id": "ef4c8e9d",
   "metadata": {},
   "source": [
    "Looking at the Dataset we can say there were Categorical Features such as Gender, Contract type*, tenure* and all can't have large number of unique Categorical feature so Nominal Encoding will be preferred choice for Categorical data transformation\n",
    "\n",
    "\n",
    "\n",
    "*supposed to be "
   ]
  }
 ],
 "metadata": {
  "kernelspec": {
   "display_name": "Python 3 (ipykernel)",
   "language": "python",
   "name": "python3"
  },
  "language_info": {
   "codemirror_mode": {
    "name": "ipython",
    "version": 3
   },
   "file_extension": ".py",
   "mimetype": "text/x-python",
   "name": "python",
   "nbconvert_exporter": "python",
   "pygments_lexer": "ipython3",
   "version": "3.9.16"
  }
 },
 "nbformat": 4,
 "nbformat_minor": 5
}
